{
 "cells": [
  {
   "cell_type": "code",
   "execution_count": 1,
   "id": "5ef1e8b9",
   "metadata": {},
   "outputs": [
    {
     "name": "stdout",
     "output_type": "stream",
     "text": [
      "INFO: Pandarallel will run on 16 workers.\n",
      "INFO: Pandarallel will use Memory file system to transfer data between the main process and workers.\n"
     ]
    }
   ],
   "source": [
    "import numpy as np\n",
    "import pandas as pd\n",
    "from ast import literal_eval\n",
    "\n",
    "import gensim\n",
    "import gensim.corpora as corpora\n",
    "from gensim.utils import simple_preprocess\n",
    "from gensim.models import CoherenceModel, Phrases\n",
    "\n",
    "import spacy\n",
    "from nltk.corpus import stopwords\n",
    "\n",
    "import pyLDAvis\n",
    "import pyLDAvis.gensim\n",
    "pyLDAvis.enable_notebook()\n",
    "\n",
    "from pandarallel import pandarallel\n",
    "pandarallel.initialize(progress_bar=True, nb_workers=16)\n",
    "\n",
    "# import warnings\n",
    "# warnings.filterwarnings(action='once')"
   ]
  },
  {
   "cell_type": "markdown",
   "id": "f619fbe6",
   "metadata": {},
   "source": [
    "#### Стоит удалить слова-цифры, которые я добавлял вместо обычных numeric токенов. Для этого скопирую список всех слов, которые были вставлены в датасет вместо цифр"
   ]
  },
  {
   "cell_type": "code",
   "execution_count": 2,
   "id": "17830917",
   "metadata": {},
   "outputs": [],
   "source": [
    "ONES_FEMININE = {\n",
    "    1: ('одна',),2: ('две',),3: ('три',),\n",
    "    4: ('четыре',),5: ('пять',),6: ('шесть',),\n",
    "    7: ('семь',),8: ('восемь',),9: ('девять',),\n",
    "}\n",
    "\n",
    "ONES = {0: ('ноль',),\n",
    "    1: ('один',),2: ('два',),3: ('три',),\n",
    "    4: ('четыре',),5: ('пять',),6: ('шесть',),\n",
    "    7: ('семь',),8: ('восемь',),9: ('девять',),\n",
    "}\n",
    "\n",
    "TENS = {\n",
    "    0: ('десять',),1: ('одиннадцать',),2: ('двенадцать',),\n",
    "    3: ('тринадцать',),4: ('четырнадцать',),5: ('пятнадцать',),\n",
    "    6: ('шестнадцать',),7: ('семнадцать',),8: ('восемнадцать',),\n",
    "    9: ('девятнадцать',),\n",
    "}\n",
    "\n",
    "TWENTIES = {\n",
    "    2: ('двадцать',),3: ('тридцать',),4: ('сорок',),\n",
    "    5: ('пятьдесят',),6: ('шестьдесят',),7: ('семьдесят',),\n",
    "    8: ('восемьдесят',),9: ('девяносто',),\n",
    "}\n",
    "\n",
    "HUNDREDS = {\n",
    "    1: ('сто',),2: ('двести',), 3: ('триста',),\n",
    "    4: ('четыреста',),5: ('пятьсот',),6: ('шестьсот',),\n",
    "    7: ('семьсот',),8: ('восемьсот',),9: ('девятьсот',),\n",
    "}\n",
    "\n",
    "THOUSANDS = {\n",
    "    1: ('тысяча', 'тысячи', 'тысяч'),  # 10^3\n",
    "    2: ('миллион', 'миллиона', 'миллионов'),  # 10^6\n",
    "    3: ('миллиард', 'миллиарда', 'миллиардов'),  # 10^9\n",
    "    4: ('триллион', 'триллиона', 'триллионов'),  # 10^12\n",
    "    5: ('квадриллион', 'квадриллиона', 'квадриллионов'),  # 10^15\n",
    "    6: ('квинтиллион', 'квинтиллиона', 'квинтиллионов'),  # 10^18\n",
    "    7: ('секстиллион', 'секстиллиона', 'секстиллионов'),  # 10^21\n",
    "    8: ('септиллион', 'септиллиона', 'септиллионов'),  # 10^24\n",
    "    9: ('октиллион', 'октиллиона', 'октиллионов'),  # 10^27\n",
    "    10: ('нониллион', 'нониллиона', 'нониллионов'),  # 10^30\n",
    "}"
   ]
  },
  {
   "cell_type": "markdown",
   "id": "57a9ae47",
   "metadata": {},
   "source": [
    "Несколько базовых функция для процессинга текста:"
   ]
  },
  {
   "cell_type": "code",
   "execution_count": 23,
   "id": "1819e1a6",
   "metadata": {},
   "outputs": [],
   "source": [
    "# удаляем числовые токены (иначе слова \"тысяча\", \"девятсот\" и подобные будут занимать весь топ самых важных слов)\n",
    "\n",
    "combined = [ONES, ONES_FEMININE, TENS, TWENTIES, HUNDREDS, THOUSANDS]\n",
    "\n",
    "numeric = []\n",
    "for dic in combined:\n",
    "    for tup in dic.values():\n",
    "        for string in tup:\n",
    "            numeric.append(string)\n",
    "            \n",
    "def remove_numeric(text):\n",
    "    return [token for token in text if token not in numeric]\n",
    "\n",
    "def gen_words(text):\n",
    "    text = gensim.utils.simple_preprocess(text, deacc=True)\n",
    "    return remove_numeric(text)"
   ]
  },
  {
   "cell_type": "code",
   "execution_count": null,
   "id": "4a925e24",
   "metadata": {},
   "outputs": [],
   "source": [
    "# Удаляем стоп слова, и мусор короче 2 букв, который в стоп слова не попал\n",
    "\n",
    "stopwords = stopwords.words('russian')\n",
    "stopwords.append('это')\n",
    "stopwords.append('год')\n",
    "\n",
    "def clear_stopwords(text):\n",
    "    return [word for word in text if word not in stopwords and len(word) > 2]"
   ]
  },
  {
   "cell_type": "markdown",
   "id": "9bf6b172",
   "metadata": {},
   "source": [
    "#### Baseline model:"
   ]
  },
  {
   "cell_type": "code",
   "execution_count": 72,
   "id": "6f90d347",
   "metadata": {},
   "outputs": [],
   "source": [
    "df = pd.read_csv('/home/sergey/Python_projects/RU_NER/Project_Data/Data/train_data.csv')"
   ]
  },
  {
   "cell_type": "code",
   "execution_count": 73,
   "id": "c552bf67",
   "metadata": {},
   "outputs": [],
   "source": [
    "df.drop('augmented_tokens', axis=1, inplace=True)\n",
    "df.drop('augmented_ner_tags', axis=1, inplace=True)"
   ]
  },
  {
   "cell_type": "code",
   "execution_count": 6,
   "id": "5b9e14e1",
   "metadata": {},
   "outputs": [],
   "source": [
    "nlp = spacy.load(\"ru_core_news_lg\", disable=['parser', 'ner'])"
   ]
  },
  {
   "cell_type": "code",
   "execution_count": 75,
   "id": "93d4ceb6",
   "metadata": {},
   "outputs": [
    {
     "data": {
      "text/html": [
       "<div>\n",
       "<style scoped>\n",
       "    .dataframe tbody tr th:only-of-type {\n",
       "        vertical-align: middle;\n",
       "    }\n",
       "\n",
       "    .dataframe tbody tr th {\n",
       "        vertical-align: top;\n",
       "    }\n",
       "\n",
       "    .dataframe thead th {\n",
       "        text-align: right;\n",
       "    }\n",
       "</style>\n",
       "<table border=\"1\" class=\"dataframe\">\n",
       "  <thead>\n",
       "    <tr style=\"text-align: right;\">\n",
       "      <th></th>\n",
       "      <th>sentence</th>\n",
       "    </tr>\n",
       "  </thead>\n",
       "  <tbody>\n",
       "    <tr>\n",
       "      <th>0</th>\n",
       "      <td>последний был разбит при сауле жемайтами и зем...</td>\n",
       "    </tr>\n",
       "    <tr>\n",
       "      <th>1</th>\n",
       "      <td>научным руководителем был в и арнольд</td>\n",
       "    </tr>\n",
       "    <tr>\n",
       "      <th>2</th>\n",
       "      <td>но как же нынче выдают замуж княгиня ни от ког...</td>\n",
       "    </tr>\n",
       "  </tbody>\n",
       "</table>\n",
       "</div>"
      ],
      "text/plain": [
       "                                            sentence\n",
       "0  последний был разбит при сауле жемайтами и зем...\n",
       "1              научным руководителем был в и арнольд\n",
       "2  но как же нынче выдают замуж княгиня ни от ког..."
      ]
     },
     "execution_count": 75,
     "metadata": {},
     "output_type": "execute_result"
    }
   ],
   "source": [
    "df.head(3)"
   ]
  },
  {
   "cell_type": "code",
   "execution_count": 76,
   "id": "f00c8e59",
   "metadata": {},
   "outputs": [],
   "source": [
    "def lemmatization(text):\n",
    "    doc = nlp(text)\n",
    "    new_text = []\n",
    "    for token in doc:\n",
    "        new_text.append(token.lemma_)\n",
    "    return \" \".join(new_text)\n",
    "        "
   ]
  },
  {
   "cell_type": "code",
   "execution_count": 77,
   "id": "0e44a904",
   "metadata": {},
   "outputs": [
    {
     "data": {
      "application/vnd.jupyter.widget-view+json": {
       "model_id": "90af070f125048b48344420ee3805973",
       "version_major": 2,
       "version_minor": 0
      },
      "text/plain": [
       "VBox(children=(HBox(children=(IntProgress(value=0, description='0.00%', max=12857), Label(value='0 / 12857')))…"
      ]
     },
     "metadata": {},
     "output_type": "display_data"
    }
   ],
   "source": [
    "df['spacy'] = df['sentence'].parallel_apply(lambda x: lemmatization(x))"
   ]
  },
  {
   "cell_type": "code",
   "execution_count": 79,
   "id": "2f99738b",
   "metadata": {
    "collapsed": true
   },
   "outputs": [
    {
     "data": {
      "application/vnd.jupyter.widget-view+json": {
       "model_id": "ae0a45bf03624c37886be1703081b0eb",
       "version_major": 2,
       "version_minor": 0
      },
      "text/plain": [
       "VBox(children=(HBox(children=(IntProgress(value=0, description='0.00%', max=12857), Label(value='0 / 12857')))…"
      ]
     },
     "metadata": {},
     "output_type": "display_data"
    }
   ],
   "source": [
    "df['gensim_words'] = df['spacy'].parallel_apply(lambda x: gen_words(x))"
   ]
  },
  {
   "cell_type": "code",
   "execution_count": 80,
   "id": "1b38c6b4",
   "metadata": {
    "collapsed": true
   },
   "outputs": [
    {
     "data": {
      "application/vnd.jupyter.widget-view+json": {
       "model_id": "bf1181c550974105a1dc876a3ec57c57",
       "version_major": 2,
       "version_minor": 0
      },
      "text/plain": [
       "VBox(children=(HBox(children=(IntProgress(value=0, description='0.00%', max=12857), Label(value='0 / 12857')))…"
      ]
     },
     "metadata": {},
     "output_type": "display_data"
    }
   ],
   "source": [
    "df.gensim_words = df.gensim_words.parallel_apply(lambda x: remove_numeric(x))"
   ]
  },
  {
   "cell_type": "code",
   "execution_count": 81,
   "id": "e00af33c",
   "metadata": {},
   "outputs": [],
   "source": [
    "dictionary = corpora.Dictionary(df['gensim_words'])\n",
    "corpus = [dictionary.doc2bow(doc) for doc in df['gensim_words']]"
   ]
  },
  {
   "cell_type": "code",
   "execution_count": 82,
   "id": "68fc9163",
   "metadata": {},
   "outputs": [],
   "source": [
    "lda_model_baseline = gensim.models.ldamulticore.LdaMulticore(\n",
    "    workers=16,\n",
    "    corpus = corpus,\n",
    "    id2word = dictionary,\n",
    "    num_topics = 15,\n",
    "    random_state = 13,\n",
    "    eval_every = 2,\n",
    "    chunksize = 2000,\n",
    "    passes = 10,\n",
    ")"
   ]
  },
  {
   "cell_type": "code",
   "execution_count": 83,
   "id": "fcee970d",
   "metadata": {},
   "outputs": [],
   "source": [
    "def compute_coherence(model, texts, id2word, coherence='c_v'):\n",
    "    coherence_model_lda = CoherenceModel(model=model,\n",
    "                                         texts=texts,\n",
    "                                         dictionary=id2word,\n",
    "                                         coherence=coherence)\n",
    "    coherence_lda = coherence_model_lda.get_coherence()\n",
    "    print('Coherence Score: ', coherence_lda)"
   ]
  },
  {
   "cell_type": "code",
   "execution_count": 84,
   "id": "b13d1d28",
   "metadata": {},
   "outputs": [
    {
     "name": "stdout",
     "output_type": "stream",
     "text": [
      "Coherence Score:  0.3779725303117619\n"
     ]
    }
   ],
   "source": [
    "compute_coherence(lda_model_baseline, df['gensim_words'], dictionary)"
   ]
  },
  {
   "cell_type": "code",
   "execution_count": 85,
   "id": "077cae93",
   "metadata": {},
   "outputs": [],
   "source": [
    "vis=pyLDAvis.gensim.prepare(lda_model_baseline, corpus, dictionary, mds='mmds', R=15)"
   ]
  },
  {
   "cell_type": "code",
   "execution_count": 86,
   "id": "a8264eab",
   "metadata": {},
   "outputs": [],
   "source": [
    "pyLDAvis.save_html(vis, 'LDAvis/baseline.html')"
   ]
  },
  {
   "cell_type": "code",
   "execution_count": 87,
   "id": "50a783d7",
   "metadata": {
    "collapsed": true
   },
   "outputs": [
    {
     "data": {
      "text/plain": [
       "[(0,\n",
       "  '0.015*\"он\" + 0.013*\"на\" + 0.010*\"год\" + 0.008*\"для\" + 0.006*\"работать\" + 0.005*\"что\" + 0.005*\"время\" + 0.005*\"быть\" + 0.005*\"министр\" + 0.005*\"союз\"'),\n",
       " (1,\n",
       "  '0.023*\"год\" + 0.020*\"город\" + 0.016*\"по\" + 0.013*\"на\" + 0.008*\"центр\" + 0.007*\"население\" + 0.007*\"входить\" + 0.006*\"он\" + 0.006*\"сша\" + 0.006*\"после\"'),\n",
       " (2,\n",
       "  '0.016*\"на\" + 0.013*\"год\" + 0.010*\"для\" + 0.008*\"были\" + 0.007*\"он\" + 0.006*\"быть\" + 0.006*\"конец\" + 0.006*\"век\" + 0.006*\"индия\" + 0.006*\"из\"'),\n",
       " (3,\n",
       "  '0.037*\"не\" + 0.026*\"что\" + 0.016*\"это\" + 0.013*\"этот\" + 0.011*\"мы\" + 0.010*\"на\" + 0.010*\"он\" + 0.010*\"быть\" + 0.009*\"но\" + 0.008*\"весь\"'),\n",
       " (4,\n",
       "  '0.018*\"на\" + 0.018*\"вид\" + 0.015*\"из\" + 0.013*\"род\" + 0.011*\"как\" + 0.010*\"семеиство\" + 0.010*\"или\" + 0.007*\"растение\" + 0.007*\"также\" + 0.006*\"что\"'),\n",
       " (5,\n",
       "  '0.025*\"город\" + 0.024*\"остров\" + 0.018*\"на\" + 0.014*\"штат\" + 0.013*\"раион\" + 0.012*\"река\" + 0.012*\"километр\" + 0.009*\"область\" + 0.009*\"из\" + 0.009*\"центр\"'),\n",
       " (6,\n",
       "  '0.043*\"год\" + 0.016*\"быть\" + 0.014*\"на\" + 0.010*\"по\" + 0.009*\"до\" + 0.008*\"партия\" + 0.007*\"этот\" + 0.007*\"новыи\" + 0.006*\"он\" + 0.005*\"от\"'),\n",
       " (7,\n",
       "  '0.030*\"язык\" + 0.018*\"на\" + 0.007*\"год\" + 0.007*\"из\" + 0.007*\"русскии\" + 0.006*\"мир\" + 0.006*\"быть\" + 0.006*\"по\" + 0.005*\"для\" + 0.005*\"перенаправление\"'),\n",
       " (8,\n",
       "  '0.016*\"быть\" + 0.015*\"год\" + 0.013*\"игра\" + 0.013*\"на\" + 0.013*\"из\" + 0.012*\"как\" + 0.011*\"для\" + 0.010*\"альбом\" + 0.008*\"фильм\" + 0.008*\"он\"'),\n",
       " (9,\n",
       "  '0.022*\"его\" + 0.012*\"на\" + 0.011*\"брат\" + 0.010*\"он\" + 0.010*\"сын\" + 0.010*\"отец\" + 0.009*\"быть\" + 0.007*\"александр\" + 0.007*\"перенаправление\" + 0.006*\"свои\"'),\n",
       " (10,\n",
       "  '0.033*\"на\" + 0.032*\"год\" + 0.020*\"он\" + 0.014*\"за\" + 0.013*\"команда\" + 0.012*\"чемпионат\" + 0.012*\"матч\" + 0.011*\"быть\" + 0.010*\"первыи\" + 0.010*\"клуб\"'),\n",
       " (11,\n",
       "  '0.058*\"на\" + 0.016*\"до\" + 0.014*\"от\" + 0.009*\"из\" + 0.009*\"по\" + 0.009*\"город\" + 0.007*\"метр\" + 0.007*\"часть\" + 0.006*\"река\" + 0.006*\"год\"'),\n",
       " (12,\n",
       "  '0.021*\"год\" + 0.013*\"он\" + 0.011*\"быть\" + 0.009*\"на\" + 0.008*\"по\" + 0.007*\"стать\" + 0.007*\"армия\" + 0.006*\"университет\" + 0.006*\"из\" + 0.005*\"при\"'),\n",
       " (13,\n",
       "  '0.079*\"год\" + 0.028*\"на\" + 0.026*\"быть\" + 0.012*\"фильм\" + 0.009*\"по\" + 0.009*\"после\" + 0.007*\"режиссер\" + 0.006*\"первыи\" + 0.006*\"декабрь\" + 0.006*\"воиско\"'),\n",
       " (14,\n",
       "  '0.035*\"перенаправление\" + 0.022*\"на\" + 0.010*\"организация\" + 0.007*\"объединить\" + 0.007*\"роль\" + 0.006*\"также\" + 0.006*\"нация\" + 0.005*\"по\" + 0.005*\"похоронить\" + 0.005*\"находиться\"')]"
      ]
     },
     "execution_count": 87,
     "metadata": {},
     "output_type": "execute_result"
    }
   ],
   "source": [
    "lda_model_baseline.print_topics()"
   ]
  },
  {
   "cell_type": "markdown",
   "id": "29b5c061",
   "metadata": {},
   "source": [
    "Функция для экспериментов с параметрами:"
   ]
  },
  {
   "cell_type": "code",
   "execution_count": 58,
   "id": "c27f6a1a",
   "metadata": {},
   "outputs": [],
   "source": [
    "def train_compute_coherence_save_chart(name, corpus, dictionary, k, a, b):\n",
    "    \"\"\"\n",
    "    1) Train Model\n",
    "    2) Compute Coherence score\n",
    "    3) Create and save visualization\n",
    "    \"\"\"\n",
    "    \n",
    "    lda_model = gensim.models.ldamulticore.LdaMulticore(workers=16,\n",
    "                                                        corpus = corpus,\n",
    "                                                        id2word = dictionary,\n",
    "                                                        num_topics = k,\n",
    "                                                        random_state = 13,\n",
    "                                                        eval_every = 2,\n",
    "                                                        chunksize = 2000,\n",
    "                                                        alpha=a,\n",
    "                                                        eta=b,\n",
    "                                                        passes = 20)\n",
    "    \n",
    "    coherence_model_lda = CoherenceModel(model=lda_model,\n",
    "                                         texts=df['gensim_words'],\n",
    "                                         dictionary=dictionary,\n",
    "                                         coherence='c_v')\n",
    "    \n",
    "    vis=pyLDAvis.gensim.prepare(lda_model, corpus, dictionary, mds='mmds', R=k)\n",
    "    pyLDAvis.save_html(vis, f'LDAvis/{name}.html')\n",
    "    print(coherence_model_lda.get_coherence())\n",
    "    return lda_model, coherence_model_lda.get_coherence()"
   ]
  },
  {
   "cell_type": "markdown",
   "id": "52c5df6f",
   "metadata": {},
   "source": [
    "___\n",
    "#### Adjusting lemmatization"
   ]
  },
  {
   "cell_type": "code",
   "execution_count": 90,
   "id": "23eedcc2",
   "metadata": {},
   "outputs": [],
   "source": [
    "df = pd.read_csv('/home/sergey/Python_projects/RU_NER/Project_Data/Data/train_data.csv')"
   ]
  },
  {
   "cell_type": "code",
   "execution_count": 91,
   "id": "5f11b5ba",
   "metadata": {},
   "outputs": [],
   "source": [
    "df.drop('augmented_tokens', axis=1, inplace=True)\n",
    "df.drop('augmented_ner_tags', axis=1, inplace=True)"
   ]
  },
  {
   "cell_type": "code",
   "execution_count": 24,
   "id": "f2382441",
   "metadata": {},
   "outputs": [],
   "source": [
    "# Попробуем оставить только определенные части речи\n",
    "\n",
    "def lemmatization(text, allowed_postages=['NOUN', 'ADJ', 'VERB', 'ADV']):\n",
    "    doc = nlp(text)\n",
    "    new_text = []\n",
    "    for token in doc:\n",
    "        if token.pos_ in allowed_postages:\n",
    "            new_text.append(token.lemma_)\n",
    "    return \" \".join(new_text)"
   ]
  },
  {
   "cell_type": "code",
   "execution_count": 93,
   "id": "c666d612",
   "metadata": {},
   "outputs": [
    {
     "data": {
      "application/vnd.jupyter.widget-view+json": {
       "model_id": "0306083f82ae445bab89c007a6cd84da",
       "version_major": 2,
       "version_minor": 0
      },
      "text/plain": [
       "VBox(children=(HBox(children=(IntProgress(value=0, description='0.00%', max=12857), Label(value='0 / 12857')))…"
      ]
     },
     "metadata": {},
     "output_type": "display_data"
    }
   ],
   "source": [
    "df['spacy'] = df['sentence'].parallel_apply(lambda x: lemmatization(x))"
   ]
  },
  {
   "cell_type": "code",
   "execution_count": 94,
   "id": "d9710d52",
   "metadata": {},
   "outputs": [
    {
     "data": {
      "application/vnd.jupyter.widget-view+json": {
       "model_id": "855b4d1aaf424e4ebf38c0a4c5eae5dc",
       "version_major": 2,
       "version_minor": 0
      },
      "text/plain": [
       "VBox(children=(HBox(children=(IntProgress(value=0, description='0.00%', max=12857), Label(value='0 / 12857')))…"
      ]
     },
     "metadata": {},
     "output_type": "display_data"
    }
   ],
   "source": [
    "df['gensim_words'] = df['spacy'].parallel_apply(lambda x: gen_words(x))"
   ]
  },
  {
   "cell_type": "code",
   "execution_count": 95,
   "id": "e4329f38",
   "metadata": {},
   "outputs": [],
   "source": [
    "# df.to_csv('lemmatized_for_topics.csv', index=False)"
   ]
  },
  {
   "cell_type": "code",
   "execution_count": 37,
   "id": "7886890d",
   "metadata": {
    "collapsed": true
   },
   "outputs": [
    {
     "ename": "KeyError",
     "evalue": "'gensim_words'",
     "output_type": "error",
     "traceback": [
      "\u001b[0;31m---------------------------------------------------------------------------\u001b[0m",
      "\u001b[0;31mKeyError\u001b[0m                                  Traceback (most recent call last)",
      "\u001b[0;32m~/anaconda3/lib/python3.9/site-packages/pandas/core/indexes/base.py\u001b[0m in \u001b[0;36mget_loc\u001b[0;34m(self, key, method, tolerance)\u001b[0m\n\u001b[1;32m   3801\u001b[0m             \u001b[0;32mtry\u001b[0m\u001b[0;34m:\u001b[0m\u001b[0;34m\u001b[0m\u001b[0;34m\u001b[0m\u001b[0m\n\u001b[0;32m-> 3802\u001b[0;31m                 \u001b[0;32mreturn\u001b[0m \u001b[0mself\u001b[0m\u001b[0;34m.\u001b[0m\u001b[0m_engine\u001b[0m\u001b[0;34m.\u001b[0m\u001b[0mget_loc\u001b[0m\u001b[0;34m(\u001b[0m\u001b[0mcasted_key\u001b[0m\u001b[0;34m)\u001b[0m\u001b[0;34m\u001b[0m\u001b[0;34m\u001b[0m\u001b[0m\n\u001b[0m\u001b[1;32m   3803\u001b[0m             \u001b[0;32mexcept\u001b[0m \u001b[0mKeyError\u001b[0m \u001b[0;32mas\u001b[0m \u001b[0merr\u001b[0m\u001b[0;34m:\u001b[0m\u001b[0;34m\u001b[0m\u001b[0;34m\u001b[0m\u001b[0m\n",
      "\u001b[0;32m~/anaconda3/lib/python3.9/site-packages/pandas/_libs/index.pyx\u001b[0m in \u001b[0;36mpandas._libs.index.IndexEngine.get_loc\u001b[0;34m()\u001b[0m\n",
      "\u001b[0;32m~/anaconda3/lib/python3.9/site-packages/pandas/_libs/index.pyx\u001b[0m in \u001b[0;36mpandas._libs.index.IndexEngine.get_loc\u001b[0;34m()\u001b[0m\n",
      "\u001b[0;32mpandas/_libs/hashtable_class_helper.pxi\u001b[0m in \u001b[0;36mpandas._libs.hashtable.PyObjectHashTable.get_item\u001b[0;34m()\u001b[0m\n",
      "\u001b[0;32mpandas/_libs/hashtable_class_helper.pxi\u001b[0m in \u001b[0;36mpandas._libs.hashtable.PyObjectHashTable.get_item\u001b[0;34m()\u001b[0m\n",
      "\u001b[0;31mKeyError\u001b[0m: 'gensim_words'",
      "\nThe above exception was the direct cause of the following exception:\n",
      "\u001b[0;31mKeyError\u001b[0m                                  Traceback (most recent call last)",
      "\u001b[0;32m/tmp/ipykernel_66051/613732542.py\u001b[0m in \u001b[0;36m<module>\u001b[0;34m\u001b[0m\n\u001b[0;32m----> 1\u001b[0;31m \u001b[0mdf\u001b[0m\u001b[0;34m[\u001b[0m\u001b[0;34m'gensim_words'\u001b[0m\u001b[0;34m]\u001b[0m \u001b[0;34m=\u001b[0m \u001b[0mdf\u001b[0m\u001b[0;34m[\u001b[0m\u001b[0;34m'gensim_words'\u001b[0m\u001b[0;34m]\u001b[0m\u001b[0;34m.\u001b[0m\u001b[0mparallel_apply\u001b[0m\u001b[0;34m(\u001b[0m\u001b[0mliteral_eval\u001b[0m\u001b[0;34m)\u001b[0m\u001b[0;34m\u001b[0m\u001b[0;34m\u001b[0m\u001b[0m\n\u001b[0m",
      "\u001b[0;32m~/anaconda3/lib/python3.9/site-packages/pandas/core/frame.py\u001b[0m in \u001b[0;36m__getitem__\u001b[0;34m(self, key)\u001b[0m\n\u001b[1;32m   3805\u001b[0m             \u001b[0;32mif\u001b[0m \u001b[0mself\u001b[0m\u001b[0;34m.\u001b[0m\u001b[0mcolumns\u001b[0m\u001b[0;34m.\u001b[0m\u001b[0mnlevels\u001b[0m \u001b[0;34m>\u001b[0m \u001b[0;36m1\u001b[0m\u001b[0;34m:\u001b[0m\u001b[0;34m\u001b[0m\u001b[0;34m\u001b[0m\u001b[0m\n\u001b[1;32m   3806\u001b[0m                 \u001b[0;32mreturn\u001b[0m \u001b[0mself\u001b[0m\u001b[0;34m.\u001b[0m\u001b[0m_getitem_multilevel\u001b[0m\u001b[0;34m(\u001b[0m\u001b[0mkey\u001b[0m\u001b[0;34m)\u001b[0m\u001b[0;34m\u001b[0m\u001b[0;34m\u001b[0m\u001b[0m\n\u001b[0;32m-> 3807\u001b[0;31m             \u001b[0mindexer\u001b[0m \u001b[0;34m=\u001b[0m \u001b[0mself\u001b[0m\u001b[0;34m.\u001b[0m\u001b[0mcolumns\u001b[0m\u001b[0;34m.\u001b[0m\u001b[0mget_loc\u001b[0m\u001b[0;34m(\u001b[0m\u001b[0mkey\u001b[0m\u001b[0;34m)\u001b[0m\u001b[0;34m\u001b[0m\u001b[0;34m\u001b[0m\u001b[0m\n\u001b[0m\u001b[1;32m   3808\u001b[0m             \u001b[0;32mif\u001b[0m \u001b[0mis_integer\u001b[0m\u001b[0;34m(\u001b[0m\u001b[0mindexer\u001b[0m\u001b[0;34m)\u001b[0m\u001b[0;34m:\u001b[0m\u001b[0;34m\u001b[0m\u001b[0;34m\u001b[0m\u001b[0m\n\u001b[1;32m   3809\u001b[0m                 \u001b[0mindexer\u001b[0m \u001b[0;34m=\u001b[0m \u001b[0;34m[\u001b[0m\u001b[0mindexer\u001b[0m\u001b[0;34m]\u001b[0m\u001b[0;34m\u001b[0m\u001b[0;34m\u001b[0m\u001b[0m\n",
      "\u001b[0;32m~/anaconda3/lib/python3.9/site-packages/pandas/core/indexes/base.py\u001b[0m in \u001b[0;36mget_loc\u001b[0;34m(self, key, method, tolerance)\u001b[0m\n\u001b[1;32m   3802\u001b[0m                 \u001b[0;32mreturn\u001b[0m \u001b[0mself\u001b[0m\u001b[0;34m.\u001b[0m\u001b[0m_engine\u001b[0m\u001b[0;34m.\u001b[0m\u001b[0mget_loc\u001b[0m\u001b[0;34m(\u001b[0m\u001b[0mcasted_key\u001b[0m\u001b[0;34m)\u001b[0m\u001b[0;34m\u001b[0m\u001b[0;34m\u001b[0m\u001b[0m\n\u001b[1;32m   3803\u001b[0m             \u001b[0;32mexcept\u001b[0m \u001b[0mKeyError\u001b[0m \u001b[0;32mas\u001b[0m \u001b[0merr\u001b[0m\u001b[0;34m:\u001b[0m\u001b[0;34m\u001b[0m\u001b[0;34m\u001b[0m\u001b[0m\n\u001b[0;32m-> 3804\u001b[0;31m                 \u001b[0;32mraise\u001b[0m \u001b[0mKeyError\u001b[0m\u001b[0;34m(\u001b[0m\u001b[0mkey\u001b[0m\u001b[0;34m)\u001b[0m \u001b[0;32mfrom\u001b[0m \u001b[0merr\u001b[0m\u001b[0;34m\u001b[0m\u001b[0;34m\u001b[0m\u001b[0m\n\u001b[0m\u001b[1;32m   3805\u001b[0m             \u001b[0;32mexcept\u001b[0m \u001b[0mTypeError\u001b[0m\u001b[0;34m:\u001b[0m\u001b[0;34m\u001b[0m\u001b[0;34m\u001b[0m\u001b[0m\n\u001b[1;32m   3806\u001b[0m                 \u001b[0;31m# If we have a listlike key, _check_indexing_error will raise\u001b[0m\u001b[0;34m\u001b[0m\u001b[0;34m\u001b[0m\u001b[0m\n",
      "\u001b[0;31mKeyError\u001b[0m: 'gensim_words'"
     ]
    }
   ],
   "source": [
    "# df['gensim_words'] = df['gensim_words'].parallel_apply(literal_eval)"
   ]
  },
  {
   "cell_type": "code",
   "execution_count": 96,
   "id": "1da1fff6",
   "metadata": {},
   "outputs": [],
   "source": [
    "dictionary = corpora.Dictionary(df['gensim_words'])\n",
    "corpus = [dictionary.doc2bow(doc) for doc in df['gensim_words']]"
   ]
  },
  {
   "cell_type": "code",
   "execution_count": 97,
   "id": "6db8eb7a",
   "metadata": {},
   "outputs": [
    {
     "name": "stdout",
     "output_type": "stream",
     "text": [
      "0.35893649478202744\n"
     ]
    }
   ],
   "source": [
    "adjusted_lemmatization_coherence = train_compute_coherence_save_chart('adjusted_lemm',\n",
    "                                                                      corpus, dictionary, 15, 1, 1)"
   ]
  },
  {
   "cell_type": "code",
   "execution_count": 98,
   "id": "a4a214e1",
   "metadata": {},
   "outputs": [
    {
     "data": {
      "text/plain": [
       "0.35893649478202744"
      ]
     },
     "execution_count": 98,
     "metadata": {},
     "output_type": "execute_result"
    }
   ],
   "source": [
    "adjusted_lemmatization_coherence "
   ]
  },
  {
   "cell_type": "markdown",
   "id": "2fae80c9",
   "metadata": {},
   "source": [
    "___\n",
    "#### Bigrams + Trigrams and stopwords removal\n"
   ]
  },
  {
   "cell_type": "code",
   "execution_count": 8,
   "id": "a5f8b45b",
   "metadata": {},
   "outputs": [],
   "source": [
    "df = pd.read_csv('/home/sergey/Python_projects/RU_NER/Project_Data/Data/train_data.csv')"
   ]
  },
  {
   "cell_type": "code",
   "execution_count": 9,
   "id": "827df21b",
   "metadata": {},
   "outputs": [],
   "source": [
    "df.drop('augmented_tokens', axis=1, inplace=True)\n",
    "df.drop('augmented_ner_tags', axis=1, inplace=True)"
   ]
  },
  {
   "cell_type": "code",
   "execution_count": 10,
   "id": "42ee1eda",
   "metadata": {},
   "outputs": [],
   "source": [
    "def lemmatization(text, allowed_postages=['NOUN', 'ADJ', 'VERB', 'ADV']):\n",
    "    doc = nlp(text)\n",
    "    new_text = []\n",
    "    for token in doc:\n",
    "        if token.pos_ in allowed_postages:\n",
    "            new_text.append(token.lemma_)\n",
    "    return \" \".join(new_text)"
   ]
  },
  {
   "cell_type": "code",
   "execution_count": 11,
   "id": "854f321c",
   "metadata": {},
   "outputs": [],
   "source": [
    "#  Пробовал использовать стандартную лемматизцию, результат был хуже\n",
    "#def lemmatization(text):\n",
    "#     doc = nlp(text)\n",
    "#     new_text = []\n",
    "#     for token in doc:\n",
    "#         new_text.append(token.lemma_)\n",
    "#     return \" \".join(new_text)"
   ]
  },
  {
   "cell_type": "code",
   "execution_count": 12,
   "id": "de612d8f",
   "metadata": {
    "collapsed": true
   },
   "outputs": [
    {
     "data": {
      "application/vnd.jupyter.widget-view+json": {
       "model_id": "3f782fe6879b4f829364c4da3a4193b6",
       "version_major": 2,
       "version_minor": 0
      },
      "text/plain": [
       "VBox(children=(HBox(children=(IntProgress(value=0, description='0.00%', max=12857), Label(value='0 / 12857')))…"
      ]
     },
     "metadata": {},
     "output_type": "display_data"
    }
   ],
   "source": [
    "df['spacy'] = df['sentence'].parallel_apply(lambda x: lemmatization(x))"
   ]
  },
  {
   "cell_type": "code",
   "execution_count": 17,
   "id": "1417aa59",
   "metadata": {
    "collapsed": true
   },
   "outputs": [
    {
     "data": {
      "application/vnd.jupyter.widget-view+json": {
       "model_id": "6bc9fc5026a741b5abe6f229686a1269",
       "version_major": 2,
       "version_minor": 0
      },
      "text/plain": [
       "VBox(children=(HBox(children=(IntProgress(value=0, description='0.00%', max=12857), Label(value='0 / 12857')))…"
      ]
     },
     "metadata": {},
     "output_type": "display_data"
    }
   ],
   "source": [
    "df['gensim_words'] = df['spacy'].parallel_apply(lambda x: gen_words(x))"
   ]
  },
  {
   "cell_type": "code",
   "execution_count": 25,
   "id": "322d94ab",
   "metadata": {},
   "outputs": [],
   "source": [
    "bigram = gensim.models.Phrases(df['gensim_words'], min_count = 5, threshold=50)\n",
    "trigram = gensim.models.Phrases(bigram[df['gensim_words']], threshold=50)\n",
    "\n",
    "bigram_mod = gensim.models.phrases.Phraser(bigram)\n",
    "trigram_mod = gensim.models.phrases.Phraser(trigram)"
   ]
  },
  {
   "cell_type": "code",
   "execution_count": 26,
   "id": "aa6a2d12",
   "metadata": {
    "collapsed": true
   },
   "outputs": [
    {
     "data": {
      "application/vnd.jupyter.widget-view+json": {
       "model_id": "ebe3b5ae059c415792f77e6e15f68f4c",
       "version_major": 2,
       "version_minor": 0
      },
      "text/plain": [
       "VBox(children=(HBox(children=(IntProgress(value=0, description='0.00%', max=12857), Label(value='0 / 12857')))…"
      ]
     },
     "metadata": {},
     "output_type": "display_data"
    }
   ],
   "source": [
    "df['gensim_words'] = df['gensim_words'].parallel_apply(lambda x: clear_stopwords(x))"
   ]
  },
  {
   "cell_type": "code",
   "execution_count": 27,
   "id": "c2e28b6a",
   "metadata": {},
   "outputs": [],
   "source": [
    "def make_bi_trigrams(text):\n",
    "    return trigram_mod[bigram_mod[text]]"
   ]
  },
  {
   "cell_type": "code",
   "execution_count": 28,
   "id": "ae57433f",
   "metadata": {
    "collapsed": true
   },
   "outputs": [
    {
     "data": {
      "application/vnd.jupyter.widget-view+json": {
       "model_id": "f6d6f10734c341908aee1f7c8e8094f4",
       "version_major": 2,
       "version_minor": 0
      },
      "text/plain": [
       "VBox(children=(HBox(children=(IntProgress(value=0, description='0.00%', max=12857), Label(value='0 / 12857')))…"
      ]
     },
     "metadata": {},
     "output_type": "display_data"
    }
   ],
   "source": [
    "df['gensim_words'] = df['gensim_words'].parallel_apply(lambda x: make_bi_trigrams(x))"
   ]
  },
  {
   "cell_type": "code",
   "execution_count": 113,
   "id": "f68120fc",
   "metadata": {},
   "outputs": [],
   "source": [
    "# df.to_csv('ngrams.csv', index=False)"
   ]
  },
  {
   "cell_type": "code",
   "execution_count": 4,
   "id": "a6ce379f",
   "metadata": {},
   "outputs": [],
   "source": [
    "df = pd.read_csv('ngrams.csv')"
   ]
  },
  {
   "cell_type": "code",
   "execution_count": 6,
   "id": "b2640e6e",
   "metadata": {
    "collapsed": true
   },
   "outputs": [
    {
     "data": {
      "application/vnd.jupyter.widget-view+json": {
       "model_id": "6f44f25b533940eebfe8679a8decc2fa",
       "version_major": 2,
       "version_minor": 0
      },
      "text/plain": [
       "VBox(children=(HBox(children=(IntProgress(value=0, description='0.00%', max=12857), Label(value='0 / 12857')))…"
      ]
     },
     "metadata": {},
     "output_type": "display_data"
    }
   ],
   "source": [
    "df['gensim_words'] = df['gensim_words'].parallel_apply(literal_eval)"
   ]
  },
  {
   "cell_type": "code",
   "execution_count": 29,
   "id": "e7ca44f3",
   "metadata": {},
   "outputs": [],
   "source": [
    "dictionary = corpora.Dictionary(df['gensim_words'])\n",
    "corpus = [dictionary.doc2bow(doc) for doc in df['gensim_words']]"
   ]
  },
  {
   "cell_type": "code",
   "execution_count": 40,
   "id": "c31ce5b6",
   "metadata": {},
   "outputs": [
    {
     "name": "stdout",
     "output_type": "stream",
     "text": [
      "0.34917137976291585\n"
     ]
    }
   ],
   "source": [
    "bi_and_trigras_coherence = train_compute_coherence_save_chart('ngrams_lemm',\n",
    "                                                                      corpus, dictionary, 15, 0.01, 0.01)"
   ]
  },
  {
   "cell_type": "code",
   "execution_count": 44,
   "id": "79d81bfb",
   "metadata": {},
   "outputs": [],
   "source": [
    "#with filter:\n",
    "dictionary = corpora.Dictionary(df['gensim_words'])\n",
    "dictionary.filter_extremes(no_below=30, no_above=0.5)\n",
    "corpus = [dictionary.doc2bow(doc) for doc in df['gensim_words']]"
   ]
  },
  {
   "cell_type": "code",
   "execution_count": 42,
   "id": "ffa98a28",
   "metadata": {},
   "outputs": [
    {
     "data": {
      "text/plain": [
       "4018"
      ]
     },
     "execution_count": 42,
     "metadata": {},
     "output_type": "execute_result"
    }
   ],
   "source": [
    "len(dictionary)"
   ]
  },
  {
   "cell_type": "code",
   "execution_count": 43,
   "id": "b67c8d0a",
   "metadata": {
    "scrolled": true
   },
   "outputs": [
    {
     "name": "stdout",
     "output_type": "stream",
     "text": [
      "0.3693857745486614\n"
     ]
    }
   ],
   "source": [
    "filter_extremes_coherence = train_compute_coherence_save_chart('filter_extremes_lemm',\n",
    "                                                                      corpus, dictionary, 15, 0.01, 0.01)"
   ]
  },
  {
   "cell_type": "code",
   "execution_count": 30,
   "id": "bdbec4e2",
   "metadata": {},
   "outputs": [],
   "source": [
    "import tqdm"
   ]
  },
  {
   "cell_type": "code",
   "execution_count": 35,
   "id": "ee913b37",
   "metadata": {},
   "outputs": [],
   "source": [
    "min_topics = 5\n",
    "max_topics = 30\n",
    "step_size = 5\n",
    "topics_range = range(min_topics, max_topics, step_size)"
   ]
  },
  {
   "cell_type": "code",
   "execution_count": 36,
   "id": "2755b281",
   "metadata": {},
   "outputs": [],
   "source": [
    "alpha = list(np.arange(0.01, 1, 0.25))\n",
    "alpha.append('symmetric')\n",
    "alpha.append('asymmetric')"
   ]
  },
  {
   "cell_type": "code",
   "execution_count": 37,
   "id": "df3545bb",
   "metadata": {},
   "outputs": [],
   "source": [
    "beta = list(np.arange(0.01, 1, 0.25))\n",
    "beta.append('symmetric')"
   ]
  },
  {
   "cell_type": "code",
   "execution_count": 95,
   "id": "86a6d36a",
   "metadata": {},
   "outputs": [],
   "source": [
    "model_results = {'Topics': [],\n",
    "                 'Alpha': [],\n",
    "                 'Beta': [],\n",
    "                 'Coherence': []\n",
    "                }"
   ]
  },
  {
   "cell_type": "code",
   "execution_count": 103,
   "id": "f3285146",
   "metadata": {},
   "outputs": [],
   "source": [
    "def train_compute_coherence_save_chart(corpus, dictionary, k, a, b):\n",
    "    \"\"\"\n",
    "    1) Train Model\n",
    "    2) Compute Coherence score\n",
    "    \"\"\"\n",
    "    \n",
    "    lda_model = gensim.models.ldamulticore.LdaMulticore(workers=16,\n",
    "                                                        corpus = corpus,\n",
    "                                                        id2word = dictionary,\n",
    "                                                        num_topics = k,\n",
    "                                                        random_state = 13,\n",
    "                                                        eval_every = 2,\n",
    "                                                        chunksize = 2000,\n",
    "                                                        alpha=a,\n",
    "                                                        eta=b,\n",
    "                                                        passes = 10)\n",
    "    \n",
    "    coherence_model_lda = CoherenceModel(model=lda_model,\n",
    "                                         texts=df['gensim_words'],\n",
    "                                         dictionary=dictionary,\n",
    "                                         coherence='c_v')\n",
    "    \n",
    "#     vis=pyLDAvis.gensim.prepare(lda_model, corpus, dictionary, mds='mmds', R=k)\n",
    "#     pyLDAvis.save_html(vis, f'LDAvis/{name}.html')\n",
    "    print(coherence_model_lda.get_coherence())\n",
    "    return coherence_model_lda.get_coherence()"
   ]
  },
  {
   "cell_type": "code",
   "execution_count": 104,
   "id": "308d8e3f",
   "metadata": {
    "collapsed": true
   },
   "outputs": [
    {
     "name": "stderr",
     "output_type": "stream",
     "text": [
      "  1%|▎                                        | 1/150 [01:09<2:51:23, 69.02s/it]\n",
      "  1%|▎                                        | 1/150 [00:44<1:49:23, 44.05s/it]"
     ]
    },
    {
     "name": "stdout",
     "output_type": "stream",
     "text": [
      "0.3284127530364974\n"
     ]
    },
    {
     "name": "stderr",
     "output_type": "stream",
     "text": [
      "\r",
      "  1%|▌                                        | 2/150 [01:27<1:47:44, 43.68s/it]"
     ]
    },
    {
     "name": "stdout",
     "output_type": "stream",
     "text": [
      "0.3311698588279435\n"
     ]
    },
    {
     "name": "stderr",
     "output_type": "stream",
     "text": [
      "\r",
      "  2%|▊                                        | 3/150 [02:10<1:46:50, 43.61s/it]"
     ]
    },
    {
     "name": "stdout",
     "output_type": "stream",
     "text": [
      "0.3145429875603252\n"
     ]
    },
    {
     "name": "stderr",
     "output_type": "stream",
     "text": [
      "\r",
      "  3%|█                                        | 4/150 [02:55<1:46:38, 43.82s/it]"
     ]
    },
    {
     "name": "stdout",
     "output_type": "stream",
     "text": [
      "0.31191386140537236\n"
     ]
    },
    {
     "name": "stderr",
     "output_type": "stream",
     "text": [
      "\r",
      "  3%|█▎                                       | 5/150 [03:38<1:45:23, 43.61s/it]"
     ]
    },
    {
     "name": "stdout",
     "output_type": "stream",
     "text": [
      "0.33133845576180165\n"
     ]
    },
    {
     "name": "stderr",
     "output_type": "stream",
     "text": [
      "\r",
      "  4%|█▋                                       | 6/150 [04:32<1:53:24, 47.25s/it]"
     ]
    },
    {
     "name": "stdout",
     "output_type": "stream",
     "text": [
      "0.3025927373680425\n"
     ]
    },
    {
     "name": "stderr",
     "output_type": "stream",
     "text": [
      "\r",
      "  5%|█▉                                       | 7/150 [05:27<1:58:28, 49.71s/it]"
     ]
    },
    {
     "name": "stdout",
     "output_type": "stream",
     "text": [
      "0.30919215535108047\n"
     ]
    },
    {
     "name": "stderr",
     "output_type": "stream",
     "text": [
      "\r",
      "  5%|██▏                                      | 8/150 [06:22<2:01:20, 51.27s/it]"
     ]
    },
    {
     "name": "stdout",
     "output_type": "stream",
     "text": [
      "0.3061585903440559\n"
     ]
    },
    {
     "name": "stderr",
     "output_type": "stream",
     "text": [
      "\r",
      "  6%|██▍                                      | 9/150 [07:16<2:02:59, 52.34s/it]"
     ]
    },
    {
     "name": "stdout",
     "output_type": "stream",
     "text": [
      "0.3196603144077302\n"
     ]
    },
    {
     "name": "stderr",
     "output_type": "stream",
     "text": [
      "\r",
      "  7%|██▋                                     | 10/150 [08:11<2:03:42, 53.01s/it]"
     ]
    },
    {
     "name": "stdout",
     "output_type": "stream",
     "text": [
      "0.31893962234290957\n"
     ]
    },
    {
     "name": "stderr",
     "output_type": "stream",
     "text": [
      "\r",
      "  7%|██▉                                     | 11/150 [09:01<2:00:42, 52.10s/it]"
     ]
    },
    {
     "name": "stdout",
     "output_type": "stream",
     "text": [
      "0.24864859916929802\n"
     ]
    },
    {
     "name": "stderr",
     "output_type": "stream",
     "text": [
      "\r",
      "  8%|███▏                                    | 12/150 [09:52<1:59:26, 51.93s/it]"
     ]
    },
    {
     "name": "stdout",
     "output_type": "stream",
     "text": [
      "0.26026154352363945\n"
     ]
    },
    {
     "name": "stderr",
     "output_type": "stream",
     "text": [
      "\r",
      "  9%|███▍                                    | 13/150 [10:44<1:58:37, 51.95s/it]"
     ]
    },
    {
     "name": "stdout",
     "output_type": "stream",
     "text": [
      "0.2644441525933293\n"
     ]
    },
    {
     "name": "stderr",
     "output_type": "stream",
     "text": [
      "\r",
      "  9%|███▋                                    | 14/150 [11:37<1:58:18, 52.20s/it]"
     ]
    },
    {
     "name": "stdout",
     "output_type": "stream",
     "text": [
      "0.2729956388190304\n"
     ]
    },
    {
     "name": "stderr",
     "output_type": "stream",
     "text": [
      "\r",
      " 10%|████                                    | 15/150 [12:28<1:56:47, 51.90s/it]"
     ]
    },
    {
     "name": "stdout",
     "output_type": "stream",
     "text": [
      "0.27011568546546394\n"
     ]
    },
    {
     "name": "stderr",
     "output_type": "stream",
     "text": [
      "\r",
      " 11%|████▎                                   | 16/150 [13:13<1:50:51, 49.64s/it]"
     ]
    },
    {
     "name": "stdout",
     "output_type": "stream",
     "text": [
      "0.250682438239583\n"
     ]
    },
    {
     "name": "stderr",
     "output_type": "stream",
     "text": [
      "\r",
      " 11%|████▌                                   | 17/150 [13:58<1:47:10, 48.35s/it]"
     ]
    },
    {
     "name": "stdout",
     "output_type": "stream",
     "text": [
      "0.275931978049493\n"
     ]
    },
    {
     "name": "stderr",
     "output_type": "stream",
     "text": [
      "\r",
      " 12%|████▊                                   | 18/150 [14:44<1:45:03, 47.75s/it]"
     ]
    },
    {
     "name": "stdout",
     "output_type": "stream",
     "text": [
      "0.27904456382664444\n"
     ]
    },
    {
     "name": "stderr",
     "output_type": "stream",
     "text": [
      "\r",
      " 13%|█████                                   | 19/150 [15:31<1:43:44, 47.51s/it]"
     ]
    },
    {
     "name": "stdout",
     "output_type": "stream",
     "text": [
      "0.2879183892380706\n"
     ]
    },
    {
     "name": "stderr",
     "output_type": "stream",
     "text": [
      "\r",
      " 13%|█████▎                                  | 20/150 [16:17<1:41:43, 46.95s/it]"
     ]
    },
    {
     "name": "stdout",
     "output_type": "stream",
     "text": [
      "0.2695390458757745\n"
     ]
    },
    {
     "name": "stderr",
     "output_type": "stream",
     "text": [
      "\r",
      " 14%|█████▌                                  | 21/150 [17:07<1:43:10, 47.99s/it]"
     ]
    },
    {
     "name": "stdout",
     "output_type": "stream",
     "text": [
      "0.3217892450911809\n"
     ]
    },
    {
     "name": "stderr",
     "output_type": "stream",
     "text": [
      "\r",
      " 15%|█████▊                                  | 22/150 [17:57<1:43:26, 48.49s/it]"
     ]
    },
    {
     "name": "stdout",
     "output_type": "stream",
     "text": [
      "0.31352058444101816\n"
     ]
    },
    {
     "name": "stderr",
     "output_type": "stream",
     "text": [
      "\r",
      " 15%|██████▏                                 | 23/150 [18:48<1:44:15, 49.26s/it]"
     ]
    },
    {
     "name": "stdout",
     "output_type": "stream",
     "text": [
      "0.34229105302559315\n"
     ]
    },
    {
     "name": "stderr",
     "output_type": "stream",
     "text": [
      "\r",
      " 16%|██████▍                                 | 24/150 [19:39<1:44:20, 49.69s/it]"
     ]
    },
    {
     "name": "stdout",
     "output_type": "stream",
     "text": [
      "0.32942499114325513\n"
     ]
    },
    {
     "name": "stderr",
     "output_type": "stream",
     "text": [
      "\r",
      " 17%|██████▋                                 | 25/150 [20:29<1:43:53, 49.87s/it]"
     ]
    },
    {
     "name": "stdout",
     "output_type": "stream",
     "text": [
      "0.31215552999824403\n"
     ]
    },
    {
     "name": "stderr",
     "output_type": "stream",
     "text": [
      "\r",
      " 17%|██████▉                                 | 26/150 [21:20<1:43:54, 50.28s/it]"
     ]
    },
    {
     "name": "stdout",
     "output_type": "stream",
     "text": [
      "0.2602407544368841\n"
     ]
    },
    {
     "name": "stderr",
     "output_type": "stream",
     "text": [
      "\r",
      " 18%|███████▏                                | 27/150 [22:12<1:43:36, 50.54s/it]"
     ]
    },
    {
     "name": "stdout",
     "output_type": "stream",
     "text": [
      "0.2565268203061472\n"
     ]
    },
    {
     "name": "stderr",
     "output_type": "stream",
     "text": [
      "\r",
      " 19%|███████▍                                | 28/150 [23:02<1:42:30, 50.41s/it]"
     ]
    },
    {
     "name": "stdout",
     "output_type": "stream",
     "text": [
      "0.2602647486671445\n"
     ]
    },
    {
     "name": "stderr",
     "output_type": "stream",
     "text": [
      "\r",
      " 19%|███████▋                                | 29/150 [23:51<1:40:50, 50.00s/it]"
     ]
    },
    {
     "name": "stdout",
     "output_type": "stream",
     "text": [
      "0.26737017381012784\n"
     ]
    },
    {
     "name": "stderr",
     "output_type": "stream",
     "text": [
      "\r",
      " 20%|████████                                | 30/150 [24:40<1:39:36, 49.81s/it]"
     ]
    },
    {
     "name": "stdout",
     "output_type": "stream",
     "text": [
      "0.2719778785841248\n",
      "0.3309748698053732\n"
     ]
    },
    {
     "name": "stderr",
     "output_type": "stream",
     "text": [
      "\r",
      " 21%|████████▎                               | 31/150 [25:24<1:35:19, 48.07s/it]"
     ]
    },
    {
     "name": "stdout",
     "output_type": "stream",
     "text": [
      "0.3885212208160236\n"
     ]
    },
    {
     "name": "stderr",
     "output_type": "stream",
     "text": [
      "\r",
      " 21%|████████▌                               | 32/150 [26:09<1:32:39, 47.12s/it]"
     ]
    },
    {
     "name": "stdout",
     "output_type": "stream",
     "text": [
      "0.40810309537723716\n"
     ]
    },
    {
     "name": "stderr",
     "output_type": "stream",
     "text": [
      "\r",
      " 22%|████████▊                               | 33/150 [26:53<1:30:09, 46.23s/it]"
     ]
    },
    {
     "name": "stdout",
     "output_type": "stream",
     "text": [
      "0.3948324479637359\n"
     ]
    },
    {
     "name": "stderr",
     "output_type": "stream",
     "text": [
      " 23%|█████████▎                              | 35/150 [28:26<1:28:30, 46.18s/it]"
     ]
    },
    {
     "name": "stdout",
     "output_type": "stream",
     "text": [
      "0.36627058870659823\n"
     ]
    },
    {
     "name": "stderr",
     "output_type": "stream",
     "text": [
      "\r",
      " 24%|█████████▌                              | 36/150 [29:19<1:31:47, 48.31s/it]"
     ]
    },
    {
     "name": "stdout",
     "output_type": "stream",
     "text": [
      "0.3026671233628974\n"
     ]
    },
    {
     "name": "stderr",
     "output_type": "stream",
     "text": [
      "\r",
      " 25%|█████████▊                              | 37/150 [30:13<1:34:04, 49.95s/it]"
     ]
    },
    {
     "name": "stdout",
     "output_type": "stream",
     "text": [
      "0.30266400661822807\n",
      "0.3109156884551706\n"
     ]
    },
    {
     "name": "stderr",
     "output_type": "stream",
     "text": [
      " 26%|██████████▍                             | 39/150 [32:02<1:36:55, 52.39s/it]"
     ]
    },
    {
     "name": "stdout",
     "output_type": "stream",
     "text": [
      "0.2984952654143791\n",
      "0.30611093743350337\n"
     ]
    },
    {
     "name": "stderr",
     "output_type": "stream",
     "text": [
      "\r",
      " 27%|██████████▋                             | 40/150 [32:55<1:36:24, 52.58s/it]"
     ]
    },
    {
     "name": "stdout",
     "output_type": "stream",
     "text": [
      "0.2494165047154718\n"
     ]
    },
    {
     "name": "stderr",
     "output_type": "stream",
     "text": [
      "\r",
      " 27%|██████████▉                             | 41/150 [33:43<1:32:48, 51.09s/it]"
     ]
    },
    {
     "name": "stdout",
     "output_type": "stream",
     "text": [
      "0.27435871226962927\n"
     ]
    },
    {
     "name": "stderr",
     "output_type": "stream",
     "text": [
      "\r",
      " 28%|███████████▏                            | 42/150 [34:29<1:29:23, 49.67s/it]"
     ]
    },
    {
     "name": "stdout",
     "output_type": "stream",
     "text": [
      "0.28375080668193986\n"
     ]
    },
    {
     "name": "stderr",
     "output_type": "stream",
     "text": [
      "\r",
      " 29%|███████████▍                            | 43/150 [35:17<1:27:23, 49.01s/it]"
     ]
    },
    {
     "name": "stdout",
     "output_type": "stream",
     "text": [
      "0.2942604761413334\n"
     ]
    },
    {
     "name": "stderr",
     "output_type": "stream",
     "text": [
      " 30%|████████████                            | 45/150 [36:51<1:23:45, 47.87s/it]"
     ]
    },
    {
     "name": "stdout",
     "output_type": "stream",
     "text": [
      "0.2618947289714389\n",
      "0.2507732490861863\n"
     ]
    },
    {
     "name": "stderr",
     "output_type": "stream",
     "text": [
      " 31%|████████████▌                           | 47/150 [38:10<1:15:02, 43.72s/it]"
     ]
    },
    {
     "name": "stdout",
     "output_type": "stream",
     "text": [
      "0.2559512337725139\n",
      "0.2649031611027256\n"
     ]
    },
    {
     "name": "stderr",
     "output_type": "stream",
     "text": [
      " 33%|█████████████                           | 49/150 [39:30<1:10:30, 41.89s/it]"
     ]
    },
    {
     "name": "stdout",
     "output_type": "stream",
     "text": [
      "0.2721218531280888\n",
      "0.2563121730793202\n"
     ]
    },
    {
     "name": "stderr",
     "output_type": "stream",
     "text": [
      "\r",
      " 33%|█████████████▎                          | 50/150 [40:10<1:08:35, 41.16s/it]"
     ]
    },
    {
     "name": "stdout",
     "output_type": "stream",
     "text": [
      "0.3229903747878703\n"
     ]
    },
    {
     "name": "stderr",
     "output_type": "stream",
     "text": [
      " 35%|█████████████▊                          | 52/150 [41:41<1:10:41, 43.28s/it]"
     ]
    },
    {
     "name": "stdout",
     "output_type": "stream",
     "text": [
      "0.3147891925281264\n",
      "0.3701266690997063\n"
     ]
    },
    {
     "name": "stderr",
     "output_type": "stream",
     "text": [
      "\r",
      " 35%|██████████████▏                         | 53/150 [42:26<1:11:05, 43.98s/it]"
     ]
    },
    {
     "name": "stdout",
     "output_type": "stream",
     "text": [
      "0.3944341798951175\n"
     ]
    },
    {
     "name": "stderr",
     "output_type": "stream",
     "text": [
      "\r",
      " 36%|██████████████▍                         | 54/150 [43:13<1:11:39, 44.79s/it]"
     ]
    },
    {
     "name": "stdout",
     "output_type": "stream",
     "text": [
      "0.3097304135147213\n"
     ]
    },
    {
     "name": "stderr",
     "output_type": "stream",
     "text": [
      "\r",
      " 37%|██████████████▋                         | 55/150 [43:58<1:11:14, 45.00s/it]"
     ]
    },
    {
     "name": "stdout",
     "output_type": "stream",
     "text": [
      "0.33054772443817393\n"
     ]
    },
    {
     "name": "stderr",
     "output_type": "stream",
     "text": [
      "\r",
      " 37%|██████████████▉                         | 56/150 [44:44<1:10:36, 45.07s/it]"
     ]
    },
    {
     "name": "stdout",
     "output_type": "stream",
     "text": [
      "0.3339577729055823\n"
     ]
    },
    {
     "name": "stderr",
     "output_type": "stream",
     "text": [
      " 39%|███████████████▍                        | 58/150 [46:13<1:08:57, 44.97s/it]"
     ]
    },
    {
     "name": "stdout",
     "output_type": "stream",
     "text": [
      "0.3140175632297051\n",
      "0.2937548260792463\n"
     ]
    },
    {
     "name": "stderr",
     "output_type": "stream",
     "text": [
      "\r",
      " 39%|███████████████▋                        | 59/150 [46:59<1:08:43, 45.31s/it]"
     ]
    },
    {
     "name": "stdout",
     "output_type": "stream",
     "text": [
      "0.3187126179838337\n"
     ]
    },
    {
     "name": "stderr",
     "output_type": "stream",
     "text": [
      "\r",
      " 40%|████████████████                        | 60/150 [47:45<1:08:14, 45.49s/it]"
     ]
    },
    {
     "name": "stdout",
     "output_type": "stream",
     "text": [
      "0.3735489693357494\n"
     ]
    },
    {
     "name": "stderr",
     "output_type": "stream",
     "text": [
      "\r",
      " 41%|████████████████▎                       | 61/150 [48:30<1:07:15, 45.34s/it]"
     ]
    },
    {
     "name": "stdout",
     "output_type": "stream",
     "text": [
      "0.38046030522502833\n"
     ]
    },
    {
     "name": "stderr",
     "output_type": "stream",
     "text": [
      "\r",
      " 41%|████████████████▌                       | 62/150 [49:15<1:06:19, 45.23s/it]"
     ]
    },
    {
     "name": "stdout",
     "output_type": "stream",
     "text": [
      "0.3736904063731046\n"
     ]
    },
    {
     "name": "stderr",
     "output_type": "stream",
     "text": [
      "\r",
      " 42%|████████████████▊                       | 63/150 [50:00<1:05:16, 45.02s/it]"
     ]
    },
    {
     "name": "stdout",
     "output_type": "stream",
     "text": [
      "0.37496323626632927\n"
     ]
    },
    {
     "name": "stderr",
     "output_type": "stream",
     "text": [
      "\r",
      " 43%|█████████████████                       | 64/150 [50:46<1:04:55, 45.29s/it]"
     ]
    },
    {
     "name": "stdout",
     "output_type": "stream",
     "text": [
      "0.376636901149931\n"
     ]
    },
    {
     "name": "stderr",
     "output_type": "stream",
     "text": [
      "\r",
      " 43%|█████████████████▎                      | 65/150 [51:29<1:03:19, 44.70s/it]"
     ]
    },
    {
     "name": "stdout",
     "output_type": "stream",
     "text": [
      "0.29908674299761506\n"
     ]
    },
    {
     "name": "stderr",
     "output_type": "stream",
     "text": [
      "\r",
      " 44%|█████████████████▌                      | 66/150 [52:18<1:04:30, 46.07s/it]"
     ]
    },
    {
     "name": "stdout",
     "output_type": "stream",
     "text": [
      "0.31675408309299785\n"
     ]
    },
    {
     "name": "stderr",
     "output_type": "stream",
     "text": [
      "\r",
      " 45%|█████████████████▊                      | 67/150 [53:08<1:05:07, 47.08s/it]"
     ]
    },
    {
     "name": "stdout",
     "output_type": "stream",
     "text": [
      "0.3345933717874531\n"
     ]
    },
    {
     "name": "stderr",
     "output_type": "stream",
     "text": [
      "\r",
      " 45%|██████████████████▏                     | 68/150 [53:58<1:05:42, 48.08s/it]"
     ]
    },
    {
     "name": "stdout",
     "output_type": "stream",
     "text": [
      "0.3357385570828218\n"
     ]
    },
    {
     "name": "stderr",
     "output_type": "stream",
     "text": [
      "\r",
      " 46%|██████████████████▍                     | 69/150 [54:49<1:06:06, 48.97s/it]"
     ]
    },
    {
     "name": "stdout",
     "output_type": "stream",
     "text": [
      "0.308122784938407\n"
     ]
    },
    {
     "name": "stderr",
     "output_type": "stream",
     "text": [
      "\r",
      " 47%|██████████████████▋                     | 70/150 [55:38<1:05:15, 48.95s/it]"
     ]
    },
    {
     "name": "stdout",
     "output_type": "stream",
     "text": [
      "0.3187778097666511\n"
     ]
    },
    {
     "name": "stderr",
     "output_type": "stream",
     "text": [
      "\r",
      " 47%|██████████████████▉                     | 71/150 [56:20<1:01:39, 46.83s/it]"
     ]
    },
    {
     "name": "stdout",
     "output_type": "stream",
     "text": [
      "0.3525057665396249\n"
     ]
    },
    {
     "name": "stderr",
     "output_type": "stream",
     "text": [
      "\r",
      " 48%|████████████████████▏                     | 72/150 [57:03<59:24, 45.70s/it]"
     ]
    },
    {
     "name": "stdout",
     "output_type": "stream",
     "text": [
      "0.34698386874334736\n"
     ]
    },
    {
     "name": "stderr",
     "output_type": "stream",
     "text": [
      "\r",
      " 49%|████████████████████▍                     | 73/150 [57:47<58:03, 45.24s/it]"
     ]
    },
    {
     "name": "stdout",
     "output_type": "stream",
     "text": [
      "0.36436151719254856\n"
     ]
    },
    {
     "name": "stderr",
     "output_type": "stream",
     "text": [
      "\r",
      " 49%|████████████████████▋                     | 74/150 [58:32<56:56, 44.96s/it]"
     ]
    },
    {
     "name": "stdout",
     "output_type": "stream",
     "text": [
      "0.33429619819021406\n"
     ]
    },
    {
     "name": "stderr",
     "output_type": "stream",
     "text": [
      "\r",
      " 50%|█████████████████████                     | 75/150 [59:15<55:44, 44.60s/it]"
     ]
    },
    {
     "name": "stdout",
     "output_type": "stream",
     "text": [
      "0.3010207951096712\n"
     ]
    },
    {
     "name": "stderr",
     "output_type": "stream",
     "text": [
      "\r",
      " 51%|█████████████████████▎                    | 76/150 [59:52<52:04, 42.22s/it]"
     ]
    },
    {
     "name": "stdout",
     "output_type": "stream",
     "text": [
      "0.33420948145502993\n"
     ]
    },
    {
     "name": "stderr",
     "output_type": "stream",
     "text": [
      "\r",
      " 51%|████████████████████▌                   | 77/150 [1:00:27<48:46, 40.10s/it]"
     ]
    },
    {
     "name": "stdout",
     "output_type": "stream",
     "text": [
      "0.3684183102996299\n"
     ]
    },
    {
     "name": "stderr",
     "output_type": "stream",
     "text": [
      " 53%|█████████████████████                   | 79/150 [1:01:34<43:33, 36.80s/it]"
     ]
    },
    {
     "name": "stdout",
     "output_type": "stream",
     "text": [
      "0.3847891677771014\n",
      "0.314988924449556\n"
     ]
    },
    {
     "name": "stderr",
     "output_type": "stream",
     "text": [
      "\r",
      " 53%|█████████████████████▎                  | 80/150 [1:02:11<42:59, 36.85s/it]"
     ]
    },
    {
     "name": "stdout",
     "output_type": "stream",
     "text": [
      "0.3702470260368452\n"
     ]
    },
    {
     "name": "stderr",
     "output_type": "stream",
     "text": [
      "\r",
      " 54%|█████████████████████▌                  | 81/150 [1:02:56<45:03, 39.18s/it]"
     ]
    },
    {
     "name": "stdout",
     "output_type": "stream",
     "text": [
      "0.3555741485666697\n"
     ]
    },
    {
     "name": "stderr",
     "output_type": "stream",
     "text": [
      "\r",
      " 55%|█████████████████████▊                  | 82/150 [1:03:40<45:57, 40.55s/it]"
     ]
    },
    {
     "name": "stdout",
     "output_type": "stream",
     "text": [
      "0.3879509338127896\n"
     ]
    },
    {
     "name": "stderr",
     "output_type": "stream",
     "text": [
      "\r",
      " 55%|██████████████████████▏                 | 83/150 [1:04:24<46:33, 41.69s/it]"
     ]
    },
    {
     "name": "stdout",
     "output_type": "stream",
     "text": [
      "0.37583662862080774\n"
     ]
    },
    {
     "name": "stderr",
     "output_type": "stream",
     "text": [
      "\r",
      " 56%|██████████████████████▍                 | 84/150 [1:05:08<46:44, 42.49s/it]"
     ]
    },
    {
     "name": "stdout",
     "output_type": "stream",
     "text": [
      "0.3622892145294803\n"
     ]
    },
    {
     "name": "stderr",
     "output_type": "stream",
     "text": [
      "\r",
      " 57%|██████████████████████▋                 | 85/150 [1:05:52<46:20, 42.78s/it]"
     ]
    },
    {
     "name": "stdout",
     "output_type": "stream",
     "text": [
      "0.35706820492738767\n"
     ]
    },
    {
     "name": "stderr",
     "output_type": "stream",
     "text": [
      "\r",
      " 57%|██████████████████████▉                 | 86/150 [1:06:35<45:36, 42.75s/it]"
     ]
    },
    {
     "name": "stdout",
     "output_type": "stream",
     "text": [
      "0.34255845670283463\n"
     ]
    },
    {
     "name": "stderr",
     "output_type": "stream",
     "text": [
      "\r",
      " 58%|███████████████████████▏                | 87/150 [1:07:18<45:02, 42.89s/it]"
     ]
    },
    {
     "name": "stdout",
     "output_type": "stream",
     "text": [
      "0.3552712234343636\n"
     ]
    },
    {
     "name": "stderr",
     "output_type": "stream",
     "text": [
      "\r",
      " 59%|███████████████████████▍                | 88/150 [1:08:01<44:30, 43.08s/it]"
     ]
    },
    {
     "name": "stdout",
     "output_type": "stream",
     "text": [
      "0.36099814341466907\n"
     ]
    },
    {
     "name": "stderr",
     "output_type": "stream",
     "text": [
      "\r",
      " 59%|███████████████████████▋                | 89/150 [1:08:45<44:06, 43.39s/it]"
     ]
    },
    {
     "name": "stdout",
     "output_type": "stream",
     "text": [
      "0.3503141161160022\n"
     ]
    },
    {
     "name": "stderr",
     "output_type": "stream",
     "text": [
      "\r",
      " 60%|████████████████████████                | 90/150 [1:09:28<43:10, 43.18s/it]"
     ]
    },
    {
     "name": "stdout",
     "output_type": "stream",
     "text": [
      "0.37610882098806064\n"
     ]
    },
    {
     "name": "stderr",
     "output_type": "stream",
     "text": [
      "\r",
      " 61%|████████████████████████▎               | 91/150 [1:10:11<42:18, 43.02s/it]"
     ]
    },
    {
     "name": "stdout",
     "output_type": "stream",
     "text": [
      "0.37531067042756905\n"
     ]
    },
    {
     "name": "stderr",
     "output_type": "stream",
     "text": [
      "\r",
      " 61%|████████████████████████▌               | 92/150 [1:10:55<41:48, 43.24s/it]"
     ]
    },
    {
     "name": "stdout",
     "output_type": "stream",
     "text": [
      "0.37945491283958704\n"
     ]
    },
    {
     "name": "stderr",
     "output_type": "stream",
     "text": [
      "\r",
      " 62%|████████████████████████▊               | 93/150 [1:11:39<41:22, 43.54s/it]"
     ]
    },
    {
     "name": "stdout",
     "output_type": "stream",
     "text": [
      "0.3695303515002359\n"
     ]
    },
    {
     "name": "stderr",
     "output_type": "stream",
     "text": [
      "\r",
      " 63%|█████████████████████████               | 94/150 [1:12:24<41:14, 44.19s/it]"
     ]
    },
    {
     "name": "stdout",
     "output_type": "stream",
     "text": [
      "0.3856382965117543\n"
     ]
    },
    {
     "name": "stderr",
     "output_type": "stream",
     "text": [
      "\r",
      " 63%|█████████████████████████▎              | 95/150 [1:13:09<40:39, 44.35s/it]"
     ]
    },
    {
     "name": "stdout",
     "output_type": "stream",
     "text": [
      "0.3224221050476124\n"
     ]
    },
    {
     "name": "stderr",
     "output_type": "stream",
     "text": [
      "\r",
      " 64%|█████████████████████████▌              | 96/150 [1:13:55<40:20, 44.82s/it]"
     ]
    },
    {
     "name": "stdout",
     "output_type": "stream",
     "text": [
      "0.3211777325764106\n"
     ]
    },
    {
     "name": "stderr",
     "output_type": "stream",
     "text": [
      "\r",
      " 65%|█████████████████████████▊              | 97/150 [1:14:42<40:15, 45.58s/it]"
     ]
    },
    {
     "name": "stdout",
     "output_type": "stream",
     "text": [
      "0.3155271460168415\n"
     ]
    },
    {
     "name": "stderr",
     "output_type": "stream",
     "text": [
      "\r",
      " 65%|██████████████████████████▏             | 98/150 [1:15:30<40:05, 46.26s/it]"
     ]
    },
    {
     "name": "stdout",
     "output_type": "stream",
     "text": [
      "0.3322988189671138\n"
     ]
    },
    {
     "name": "stderr",
     "output_type": "stream",
     "text": [
      "\r",
      " 66%|██████████████████████████▍             | 99/150 [1:16:19<40:00, 47.07s/it]"
     ]
    },
    {
     "name": "stdout",
     "output_type": "stream",
     "text": [
      "0.3179950730725163\n"
     ]
    },
    {
     "name": "stderr",
     "output_type": "stream",
     "text": [
      "\r",
      " 67%|██████████████████████████             | 100/150 [1:17:06<39:13, 47.07s/it]"
     ]
    },
    {
     "name": "stdout",
     "output_type": "stream",
     "text": [
      "0.33097111475545415\n"
     ]
    },
    {
     "name": "stderr",
     "output_type": "stream",
     "text": [
      "\r",
      " 67%|██████████████████████████▎            | 101/150 [1:17:48<37:09, 45.49s/it]"
     ]
    },
    {
     "name": "stdout",
     "output_type": "stream",
     "text": [
      "0.3504479453301176\n"
     ]
    },
    {
     "name": "stderr",
     "output_type": "stream",
     "text": [
      "\r",
      " 68%|██████████████████████████▌            | 102/150 [1:18:29<35:19, 44.15s/it]"
     ]
    },
    {
     "name": "stdout",
     "output_type": "stream",
     "text": [
      "0.3846121715582523\n"
     ]
    },
    {
     "name": "stderr",
     "output_type": "stream",
     "text": [
      "\r",
      " 69%|██████████████████████████▊            | 103/150 [1:19:10<33:54, 43.28s/it]"
     ]
    },
    {
     "name": "stdout",
     "output_type": "stream",
     "text": [
      "0.376831906263577\n"
     ]
    },
    {
     "name": "stderr",
     "output_type": "stream",
     "text": [
      "\r",
      " 69%|███████████████████████████            | 104/150 [1:19:52<32:41, 42.63s/it]"
     ]
    },
    {
     "name": "stdout",
     "output_type": "stream",
     "text": [
      "0.3359166240386278\n"
     ]
    },
    {
     "name": "stderr",
     "output_type": "stream",
     "text": [
      "\r",
      " 70%|███████████████████████████▎           | 105/150 [1:20:32<31:33, 42.07s/it]"
     ]
    },
    {
     "name": "stdout",
     "output_type": "stream",
     "text": [
      "0.31992664557842976\n"
     ]
    },
    {
     "name": "stderr",
     "output_type": "stream",
     "text": [
      "\r",
      " 71%|███████████████████████████▌           | 106/150 [1:21:04<28:38, 39.05s/it]"
     ]
    },
    {
     "name": "stdout",
     "output_type": "stream",
     "text": [
      "0.3766606666500683\n"
     ]
    },
    {
     "name": "stderr",
     "output_type": "stream",
     "text": [
      " 72%|████████████████████████████           | 108/150 [1:22:04<24:02, 34.34s/it]"
     ]
    },
    {
     "name": "stdout",
     "output_type": "stream",
     "text": [
      "0.3987171095341734\n"
     ]
    },
    {
     "name": "stderr",
     "output_type": "stream",
     "text": [
      "\r",
      " 73%|████████████████████████████▎          | 109/150 [1:22:33<22:23, 32.77s/it]"
     ]
    },
    {
     "name": "stdout",
     "output_type": "stream",
     "text": [
      "0.41321581804560975\n"
     ]
    },
    {
     "name": "stderr",
     "output_type": "stream",
     "text": [
      "\r",
      " 73%|████████████████████████████▌          | 110/150 [1:23:05<21:36, 32.41s/it]"
     ]
    },
    {
     "name": "stdout",
     "output_type": "stream",
     "text": [
      "0.3303393357449792\n",
      "0.35342611558066905\n"
     ]
    },
    {
     "name": "stderr",
     "output_type": "stream",
     "text": [
      "\r",
      " 74%|████████████████████████████▊          | 111/150 [1:23:47<22:57, 35.33s/it]"
     ]
    },
    {
     "name": "stdout",
     "output_type": "stream",
     "text": [
      "0.3803760349204544\n"
     ]
    },
    {
     "name": "stderr",
     "output_type": "stream",
     "text": [
      "\r",
      " 75%|█████████████████████████████          | 112/150 [1:24:31<23:56, 37.81s/it]"
     ]
    },
    {
     "name": "stdout",
     "output_type": "stream",
     "text": [
      "0.3711541602466717\n"
     ]
    },
    {
     "name": "stderr",
     "output_type": "stream",
     "text": [
      "\r",
      " 75%|█████████████████████████████▍         | 113/150 [1:25:14<24:25, 39.61s/it]"
     ]
    },
    {
     "name": "stdout",
     "output_type": "stream",
     "text": [
      "0.37352977176969426\n"
     ]
    },
    {
     "name": "stderr",
     "output_type": "stream",
     "text": [
      "\r",
      " 76%|█████████████████████████████▋         | 114/150 [1:25:59<24:41, 41.17s/it]"
     ]
    },
    {
     "name": "stdout",
     "output_type": "stream",
     "text": [
      "0.36948973520830436\n"
     ]
    },
    {
     "name": "stderr",
     "output_type": "stream",
     "text": [
      "\r",
      " 77%|█████████████████████████████▉         | 115/150 [1:26:41<24:08, 41.38s/it]"
     ]
    },
    {
     "name": "stdout",
     "output_type": "stream",
     "text": [
      "0.340489488495356\n"
     ]
    },
    {
     "name": "stderr",
     "output_type": "stream",
     "text": [
      "\r",
      " 77%|██████████████████████████████▏        | 116/150 [1:27:22<23:26, 41.35s/it]"
     ]
    },
    {
     "name": "stdout",
     "output_type": "stream",
     "text": [
      "0.33593204265304083\n"
     ]
    },
    {
     "name": "stderr",
     "output_type": "stream",
     "text": [
      "\r",
      " 78%|██████████████████████████████▍        | 117/150 [1:28:04<22:46, 41.42s/it]"
     ]
    },
    {
     "name": "stdout",
     "output_type": "stream",
     "text": [
      "0.36630254558620645\n"
     ]
    },
    {
     "name": "stderr",
     "output_type": "stream",
     "text": [
      "\r",
      " 79%|██████████████████████████████▋        | 118/150 [1:28:46<22:09, 41.53s/it]"
     ]
    },
    {
     "name": "stdout",
     "output_type": "stream",
     "text": [
      "0.36244585729221024\n"
     ]
    },
    {
     "name": "stderr",
     "output_type": "stream",
     "text": [
      "\r",
      " 79%|██████████████████████████████▉        | 119/150 [1:29:29<21:40, 41.95s/it]"
     ]
    },
    {
     "name": "stdout",
     "output_type": "stream",
     "text": [
      "0.3347436960205046\n"
     ]
    },
    {
     "name": "stderr",
     "output_type": "stream",
     "text": [
      "\r",
      " 80%|███████████████████████████████▏       | 120/150 [1:30:10<20:57, 41.91s/it]"
     ]
    },
    {
     "name": "stdout",
     "output_type": "stream",
     "text": [
      "0.36538070769442377\n"
     ]
    },
    {
     "name": "stderr",
     "output_type": "stream",
     "text": [
      "\r",
      " 81%|███████████████████████████████▍       | 121/150 [1:30:53<20:21, 42.12s/it]"
     ]
    },
    {
     "name": "stdout",
     "output_type": "stream",
     "text": [
      "0.3823964624000667\n"
     ]
    },
    {
     "name": "stderr",
     "output_type": "stream",
     "text": [
      "\r",
      " 81%|███████████████████████████████▋       | 122/150 [1:31:36<19:46, 42.39s/it]"
     ]
    },
    {
     "name": "stdout",
     "output_type": "stream",
     "text": [
      "0.37242314005239785\n"
     ]
    },
    {
     "name": "stderr",
     "output_type": "stream",
     "text": [
      "\r",
      " 82%|███████████████████████████████▉       | 123/150 [1:32:20<19:14, 42.77s/it]"
     ]
    },
    {
     "name": "stdout",
     "output_type": "stream",
     "text": [
      "0.37862006082409766\n"
     ]
    },
    {
     "name": "stderr",
     "output_type": "stream",
     "text": [
      "\r",
      " 83%|████████████████████████████████▏      | 124/150 [1:33:06<18:57, 43.75s/it]"
     ]
    },
    {
     "name": "stdout",
     "output_type": "stream",
     "text": [
      "0.36898642867069276\n"
     ]
    },
    {
     "name": "stderr",
     "output_type": "stream",
     "text": [
      "\r",
      " 83%|████████████████████████████████▌      | 125/150 [1:33:48<18:05, 43.41s/it]"
     ]
    },
    {
     "name": "stdout",
     "output_type": "stream",
     "text": [
      "0.3162551686111023\n"
     ]
    },
    {
     "name": "stderr",
     "output_type": "stream",
     "text": [
      "\r",
      " 84%|████████████████████████████████▊      | 126/150 [1:34:33<17:33, 43.88s/it]"
     ]
    },
    {
     "name": "stdout",
     "output_type": "stream",
     "text": [
      "0.3162668096398033\n"
     ]
    },
    {
     "name": "stderr",
     "output_type": "stream",
     "text": [
      "\r",
      " 85%|█████████████████████████████████      | 127/150 [1:35:20<17:07, 44.68s/it]"
     ]
    },
    {
     "name": "stdout",
     "output_type": "stream",
     "text": [
      "0.30999393819175297\n"
     ]
    },
    {
     "name": "stderr",
     "output_type": "stream",
     "text": [
      "\r",
      " 85%|█████████████████████████████████▎     | 128/150 [1:36:06<16:33, 45.18s/it]"
     ]
    },
    {
     "name": "stdout",
     "output_type": "stream",
     "text": [
      "0.3073686829876191\n"
     ]
    },
    {
     "name": "stderr",
     "output_type": "stream",
     "text": [
      "\r",
      " 86%|█████████████████████████████████▌     | 129/150 [1:36:53<15:59, 45.69s/it]"
     ]
    },
    {
     "name": "stdout",
     "output_type": "stream",
     "text": [
      "0.3228541751750895\n"
     ]
    },
    {
     "name": "stderr",
     "output_type": "stream",
     "text": [
      "\r",
      " 87%|█████████████████████████████████▊     | 130/150 [1:37:41<15:27, 46.38s/it]"
     ]
    },
    {
     "name": "stdout",
     "output_type": "stream",
     "text": [
      "0.33286666842224705\n"
     ]
    },
    {
     "name": "stderr",
     "output_type": "stream",
     "text": [
      "\r",
      " 87%|██████████████████████████████████     | 131/150 [1:38:20<13:57, 44.09s/it]"
     ]
    },
    {
     "name": "stdout",
     "output_type": "stream",
     "text": [
      "0.3547688018785328\n"
     ]
    },
    {
     "name": "stderr",
     "output_type": "stream",
     "text": [
      "\r",
      " 88%|██████████████████████████████████▎    | 132/150 [1:39:00<12:54, 43.05s/it]"
     ]
    },
    {
     "name": "stdout",
     "output_type": "stream",
     "text": [
      "0.35950439398220996\n"
     ]
    },
    {
     "name": "stderr",
     "output_type": "stream",
     "text": [
      "\r",
      " 89%|██████████████████████████████████▌    | 133/150 [1:39:40<11:52, 41.93s/it]"
     ]
    },
    {
     "name": "stdout",
     "output_type": "stream",
     "text": [
      "0.3972720938918751\n"
     ]
    },
    {
     "name": "stderr",
     "output_type": "stream",
     "text": [
      "\r",
      " 89%|██████████████████████████████████▊    | 134/150 [1:40:19<10:56, 41.06s/it]"
     ]
    },
    {
     "name": "stdout",
     "output_type": "stream",
     "text": [
      "0.3421592055691467\n"
     ]
    },
    {
     "name": "stderr",
     "output_type": "stream",
     "text": [
      "\r",
      " 90%|███████████████████████████████████    | 135/150 [1:40:58<10:06, 40.44s/it]"
     ]
    },
    {
     "name": "stdout",
     "output_type": "stream",
     "text": [
      "0.3275921446704818\n"
     ]
    },
    {
     "name": "stderr",
     "output_type": "stream",
     "text": [
      "\r",
      " 91%|███████████████████████████████████▎   | 136/150 [1:41:29<08:46, 37.58s/it]"
     ]
    },
    {
     "name": "stdout",
     "output_type": "stream",
     "text": [
      "0.3795458928202338\n"
     ]
    },
    {
     "name": "stderr",
     "output_type": "stream",
     "text": [
      " 92%|███████████████████████████████████▉   | 138/150 [1:42:29<06:43, 33.66s/it]"
     ]
    },
    {
     "name": "stdout",
     "output_type": "stream",
     "text": [
      "0.42436382451104815\n",
      "0.43536806107077375\n"
     ]
    },
    {
     "name": "stderr",
     "output_type": "stream",
     "text": [
      " 93%|████████████████████████████████████▍  | 140/150 [1:43:30<05:22, 32.26s/it]"
     ]
    },
    {
     "name": "stdout",
     "output_type": "stream",
     "text": [
      "0.32630072528156295\n",
      "0.34809482658907503\n"
     ]
    },
    {
     "name": "stderr",
     "output_type": "stream",
     "text": [
      "\r",
      " 94%|████████████████████████████████████▋  | 141/150 [1:44:12<05:16, 35.22s/it]"
     ]
    },
    {
     "name": "stdout",
     "output_type": "stream",
     "text": [
      "0.3752849157586051\n"
     ]
    },
    {
     "name": "stderr",
     "output_type": "stream",
     "text": [
      "\r",
      " 95%|████████████████████████████████████▉  | 142/150 [1:44:55<04:58, 37.37s/it]"
     ]
    },
    {
     "name": "stdout",
     "output_type": "stream",
     "text": [
      "0.38232314327619216\n"
     ]
    },
    {
     "name": "stderr",
     "output_type": "stream",
     "text": [
      "\r",
      " 95%|█████████████████████████████████████▏ | 143/150 [1:45:39<04:35, 39.33s/it]"
     ]
    },
    {
     "name": "stdout",
     "output_type": "stream",
     "text": [
      "0.38106546068567354\n"
     ]
    },
    {
     "name": "stderr",
     "output_type": "stream",
     "text": [
      "\r",
      " 96%|█████████████████████████████████████▍ | 144/150 [1:46:22<04:02, 40.44s/it]"
     ]
    },
    {
     "name": "stdout",
     "output_type": "stream",
     "text": [
      "0.3562788350440077\n"
     ]
    },
    {
     "name": "stderr",
     "output_type": "stream",
     "text": [
      "\r",
      " 97%|█████████████████████████████████████▋ | 145/150 [1:47:03<03:23, 40.73s/it]"
     ]
    },
    {
     "name": "stdout",
     "output_type": "stream",
     "text": [
      "0.3511315162190756\n"
     ]
    },
    {
     "name": "stderr",
     "output_type": "stream",
     "text": [
      "\r",
      " 97%|█████████████████████████████████████▉ | 146/150 [1:47:45<02:44, 41.03s/it]"
     ]
    },
    {
     "name": "stdout",
     "output_type": "stream",
     "text": [
      "0.36104508187989615\n"
     ]
    },
    {
     "name": "stderr",
     "output_type": "stream",
     "text": [
      "\r",
      " 98%|██████████████████████████████████████▏| 147/150 [1:48:25<02:02, 40.78s/it]"
     ]
    },
    {
     "name": "stdout",
     "output_type": "stream",
     "text": [
      "0.3615086747250917\n"
     ]
    },
    {
     "name": "stderr",
     "output_type": "stream",
     "text": [
      "\r",
      " 99%|██████████████████████████████████████▍| 148/150 [1:49:06<01:21, 40.95s/it]"
     ]
    },
    {
     "name": "stdout",
     "output_type": "stream",
     "text": [
      "0.3693399780324968\n"
     ]
    },
    {
     "name": "stderr",
     "output_type": "stream",
     "text": [
      "\r",
      " 99%|██████████████████████████████████████▋| 149/150 [1:49:50<00:41, 41.65s/it]"
     ]
    },
    {
     "name": "stdout",
     "output_type": "stream",
     "text": [
      "0.34528868158314224\n"
     ]
    },
    {
     "name": "stderr",
     "output_type": "stream",
     "text": [
      "\r",
      "100%|███████████████████████████████████████| 150/150 [1:50:30<00:00, 41.20s/it]"
     ]
    },
    {
     "ename": "OSError",
     "evalue": "Cannot save file into a non-existent directory: 'results'",
     "output_type": "error",
     "traceback": [
      "\u001b[0;31m---------------------------------------------------------------------------\u001b[0m",
      "\u001b[0;31mOSError\u001b[0m                                   Traceback (most recent call last)",
      "\u001b[0;32m/tmp/ipykernel_5076/1750436657.py\u001b[0m in \u001b[0;36m<module>\u001b[0;34m\u001b[0m\n\u001b[1;32m     14\u001b[0m \u001b[0;34m\u001b[0m\u001b[0m\n\u001b[1;32m     15\u001b[0m                 \u001b[0mpbar\u001b[0m\u001b[0;34m.\u001b[0m\u001b[0mupdate\u001b[0m\u001b[0;34m(\u001b[0m\u001b[0;36m1\u001b[0m\u001b[0;34m)\u001b[0m\u001b[0;34m\u001b[0m\u001b[0;34m\u001b[0m\u001b[0m\n\u001b[0;32m---> 16\u001b[0;31m     \u001b[0mpd\u001b[0m\u001b[0;34m.\u001b[0m\u001b[0mDataFrame\u001b[0m\u001b[0;34m(\u001b[0m\u001b[0mmodel_results\u001b[0m\u001b[0;34m)\u001b[0m\u001b[0;34m.\u001b[0m\u001b[0mto_csv\u001b[0m\u001b[0;34m(\u001b[0m\u001b[0;34m'./results/lda_tuning_results.csv'\u001b[0m\u001b[0;34m,\u001b[0m \u001b[0mindex\u001b[0m\u001b[0;34m=\u001b[0m\u001b[0;32mFalse\u001b[0m\u001b[0;34m)\u001b[0m\u001b[0;34m\u001b[0m\u001b[0;34m\u001b[0m\u001b[0m\n\u001b[0m\u001b[1;32m     17\u001b[0m     \u001b[0mpbar\u001b[0m\u001b[0;34m.\u001b[0m\u001b[0mclose\u001b[0m\u001b[0;34m(\u001b[0m\u001b[0;34m)\u001b[0m\u001b[0;34m\u001b[0m\u001b[0;34m\u001b[0m\u001b[0m\n",
      "\u001b[0;32m~/anaconda3/lib/python3.9/site-packages/pandas/util/_decorators.py\u001b[0m in \u001b[0;36mwrapper\u001b[0;34m(*args, **kwargs)\u001b[0m\n\u001b[1;32m    209\u001b[0m                 \u001b[0;32melse\u001b[0m\u001b[0;34m:\u001b[0m\u001b[0;34m\u001b[0m\u001b[0;34m\u001b[0m\u001b[0m\n\u001b[1;32m    210\u001b[0m                     \u001b[0mkwargs\u001b[0m\u001b[0;34m[\u001b[0m\u001b[0mnew_arg_name\u001b[0m\u001b[0;34m]\u001b[0m \u001b[0;34m=\u001b[0m \u001b[0mnew_arg_value\u001b[0m\u001b[0;34m\u001b[0m\u001b[0;34m\u001b[0m\u001b[0m\n\u001b[0;32m--> 211\u001b[0;31m             \u001b[0;32mreturn\u001b[0m \u001b[0mfunc\u001b[0m\u001b[0;34m(\u001b[0m\u001b[0;34m*\u001b[0m\u001b[0margs\u001b[0m\u001b[0;34m,\u001b[0m \u001b[0;34m**\u001b[0m\u001b[0mkwargs\u001b[0m\u001b[0;34m)\u001b[0m\u001b[0;34m\u001b[0m\u001b[0;34m\u001b[0m\u001b[0m\n\u001b[0m\u001b[1;32m    212\u001b[0m \u001b[0;34m\u001b[0m\u001b[0m\n\u001b[1;32m    213\u001b[0m         \u001b[0;32mreturn\u001b[0m \u001b[0mcast\u001b[0m\u001b[0;34m(\u001b[0m\u001b[0mF\u001b[0m\u001b[0;34m,\u001b[0m \u001b[0mwrapper\u001b[0m\u001b[0;34m)\u001b[0m\u001b[0;34m\u001b[0m\u001b[0;34m\u001b[0m\u001b[0m\n",
      "\u001b[0;32m~/anaconda3/lib/python3.9/site-packages/pandas/core/generic.py\u001b[0m in \u001b[0;36mto_csv\u001b[0;34m(self, path_or_buf, sep, na_rep, float_format, columns, header, index, index_label, mode, encoding, compression, quoting, quotechar, lineterminator, chunksize, date_format, doublequote, escapechar, decimal, errors, storage_options)\u001b[0m\n\u001b[1;32m   3718\u001b[0m         )\n\u001b[1;32m   3719\u001b[0m \u001b[0;34m\u001b[0m\u001b[0m\n\u001b[0;32m-> 3720\u001b[0;31m         return DataFrameRenderer(formatter).to_csv(\n\u001b[0m\u001b[1;32m   3721\u001b[0m             \u001b[0mpath_or_buf\u001b[0m\u001b[0;34m,\u001b[0m\u001b[0;34m\u001b[0m\u001b[0;34m\u001b[0m\u001b[0m\n\u001b[1;32m   3722\u001b[0m             \u001b[0mlineterminator\u001b[0m\u001b[0;34m=\u001b[0m\u001b[0mlineterminator\u001b[0m\u001b[0;34m,\u001b[0m\u001b[0;34m\u001b[0m\u001b[0;34m\u001b[0m\u001b[0m\n",
      "\u001b[0;32m~/anaconda3/lib/python3.9/site-packages/pandas/util/_decorators.py\u001b[0m in \u001b[0;36mwrapper\u001b[0;34m(*args, **kwargs)\u001b[0m\n\u001b[1;32m    209\u001b[0m                 \u001b[0;32melse\u001b[0m\u001b[0;34m:\u001b[0m\u001b[0;34m\u001b[0m\u001b[0;34m\u001b[0m\u001b[0m\n\u001b[1;32m    210\u001b[0m                     \u001b[0mkwargs\u001b[0m\u001b[0;34m[\u001b[0m\u001b[0mnew_arg_name\u001b[0m\u001b[0;34m]\u001b[0m \u001b[0;34m=\u001b[0m \u001b[0mnew_arg_value\u001b[0m\u001b[0;34m\u001b[0m\u001b[0;34m\u001b[0m\u001b[0m\n\u001b[0;32m--> 211\u001b[0;31m             \u001b[0;32mreturn\u001b[0m \u001b[0mfunc\u001b[0m\u001b[0;34m(\u001b[0m\u001b[0;34m*\u001b[0m\u001b[0margs\u001b[0m\u001b[0;34m,\u001b[0m \u001b[0;34m**\u001b[0m\u001b[0mkwargs\u001b[0m\u001b[0;34m)\u001b[0m\u001b[0;34m\u001b[0m\u001b[0;34m\u001b[0m\u001b[0m\n\u001b[0m\u001b[1;32m    212\u001b[0m \u001b[0;34m\u001b[0m\u001b[0m\n\u001b[1;32m    213\u001b[0m         \u001b[0;32mreturn\u001b[0m \u001b[0mcast\u001b[0m\u001b[0;34m(\u001b[0m\u001b[0mF\u001b[0m\u001b[0;34m,\u001b[0m \u001b[0mwrapper\u001b[0m\u001b[0;34m)\u001b[0m\u001b[0;34m\u001b[0m\u001b[0;34m\u001b[0m\u001b[0m\n",
      "\u001b[0;32m~/anaconda3/lib/python3.9/site-packages/pandas/io/formats/format.py\u001b[0m in \u001b[0;36mto_csv\u001b[0;34m(self, path_or_buf, encoding, sep, columns, index_label, mode, compression, quoting, quotechar, lineterminator, chunksize, date_format, doublequote, escapechar, errors, storage_options)\u001b[0m\n\u001b[1;32m   1187\u001b[0m             \u001b[0mformatter\u001b[0m\u001b[0;34m=\u001b[0m\u001b[0mself\u001b[0m\u001b[0;34m.\u001b[0m\u001b[0mfmt\u001b[0m\u001b[0;34m,\u001b[0m\u001b[0;34m\u001b[0m\u001b[0;34m\u001b[0m\u001b[0m\n\u001b[1;32m   1188\u001b[0m         )\n\u001b[0;32m-> 1189\u001b[0;31m         \u001b[0mcsv_formatter\u001b[0m\u001b[0;34m.\u001b[0m\u001b[0msave\u001b[0m\u001b[0;34m(\u001b[0m\u001b[0;34m)\u001b[0m\u001b[0;34m\u001b[0m\u001b[0;34m\u001b[0m\u001b[0m\n\u001b[0m\u001b[1;32m   1190\u001b[0m \u001b[0;34m\u001b[0m\u001b[0m\n\u001b[1;32m   1191\u001b[0m         \u001b[0;32mif\u001b[0m \u001b[0mcreated_buffer\u001b[0m\u001b[0;34m:\u001b[0m\u001b[0;34m\u001b[0m\u001b[0;34m\u001b[0m\u001b[0m\n",
      "\u001b[0;32m~/anaconda3/lib/python3.9/site-packages/pandas/io/formats/csvs.py\u001b[0m in \u001b[0;36msave\u001b[0;34m(self)\u001b[0m\n\u001b[1;32m    239\u001b[0m         \"\"\"\n\u001b[1;32m    240\u001b[0m         \u001b[0;31m# apply compression and byte/text conversion\u001b[0m\u001b[0;34m\u001b[0m\u001b[0;34m\u001b[0m\u001b[0m\n\u001b[0;32m--> 241\u001b[0;31m         with get_handle(\n\u001b[0m\u001b[1;32m    242\u001b[0m             \u001b[0mself\u001b[0m\u001b[0;34m.\u001b[0m\u001b[0mfilepath_or_buffer\u001b[0m\u001b[0;34m,\u001b[0m\u001b[0;34m\u001b[0m\u001b[0;34m\u001b[0m\u001b[0m\n\u001b[1;32m    243\u001b[0m             \u001b[0mself\u001b[0m\u001b[0;34m.\u001b[0m\u001b[0mmode\u001b[0m\u001b[0;34m,\u001b[0m\u001b[0;34m\u001b[0m\u001b[0;34m\u001b[0m\u001b[0m\n",
      "\u001b[0;32m~/anaconda3/lib/python3.9/site-packages/pandas/io/common.py\u001b[0m in \u001b[0;36mget_handle\u001b[0;34m(path_or_buf, mode, encoding, compression, memory_map, is_text, errors, storage_options)\u001b[0m\n\u001b[1;32m    732\u001b[0m     \u001b[0;31m# Only for write methods\u001b[0m\u001b[0;34m\u001b[0m\u001b[0;34m\u001b[0m\u001b[0m\n\u001b[1;32m    733\u001b[0m     \u001b[0;32mif\u001b[0m \u001b[0;34m\"r\"\u001b[0m \u001b[0;32mnot\u001b[0m \u001b[0;32min\u001b[0m \u001b[0mmode\u001b[0m \u001b[0;32mand\u001b[0m \u001b[0mis_path\u001b[0m\u001b[0;34m:\u001b[0m\u001b[0;34m\u001b[0m\u001b[0;34m\u001b[0m\u001b[0m\n\u001b[0;32m--> 734\u001b[0;31m         \u001b[0mcheck_parent_directory\u001b[0m\u001b[0;34m(\u001b[0m\u001b[0mstr\u001b[0m\u001b[0;34m(\u001b[0m\u001b[0mhandle\u001b[0m\u001b[0;34m)\u001b[0m\u001b[0;34m)\u001b[0m\u001b[0;34m\u001b[0m\u001b[0;34m\u001b[0m\u001b[0m\n\u001b[0m\u001b[1;32m    735\u001b[0m \u001b[0;34m\u001b[0m\u001b[0m\n\u001b[1;32m    736\u001b[0m     \u001b[0;32mif\u001b[0m \u001b[0mcompression\u001b[0m\u001b[0;34m:\u001b[0m\u001b[0;34m\u001b[0m\u001b[0;34m\u001b[0m\u001b[0m\n",
      "\u001b[0;32m~/anaconda3/lib/python3.9/site-packages/pandas/io/common.py\u001b[0m in \u001b[0;36mcheck_parent_directory\u001b[0;34m(path)\u001b[0m\n\u001b[1;32m    595\u001b[0m     \u001b[0mparent\u001b[0m \u001b[0;34m=\u001b[0m \u001b[0mPath\u001b[0m\u001b[0;34m(\u001b[0m\u001b[0mpath\u001b[0m\u001b[0;34m)\u001b[0m\u001b[0;34m.\u001b[0m\u001b[0mparent\u001b[0m\u001b[0;34m\u001b[0m\u001b[0;34m\u001b[0m\u001b[0m\n\u001b[1;32m    596\u001b[0m     \u001b[0;32mif\u001b[0m \u001b[0;32mnot\u001b[0m \u001b[0mparent\u001b[0m\u001b[0;34m.\u001b[0m\u001b[0mis_dir\u001b[0m\u001b[0;34m(\u001b[0m\u001b[0;34m)\u001b[0m\u001b[0;34m:\u001b[0m\u001b[0;34m\u001b[0m\u001b[0;34m\u001b[0m\u001b[0m\n\u001b[0;32m--> 597\u001b[0;31m         \u001b[0;32mraise\u001b[0m \u001b[0mOSError\u001b[0m\u001b[0;34m(\u001b[0m\u001b[0;34mrf\"Cannot save file into a non-existent directory: '{parent}'\"\u001b[0m\u001b[0;34m)\u001b[0m\u001b[0;34m\u001b[0m\u001b[0;34m\u001b[0m\u001b[0m\n\u001b[0m\u001b[1;32m    598\u001b[0m \u001b[0;34m\u001b[0m\u001b[0m\n\u001b[1;32m    599\u001b[0m \u001b[0;34m\u001b[0m\u001b[0m\n",
      "\u001b[0;31mOSError\u001b[0m: Cannot save file into a non-existent directory: 'results'"
     ]
    }
   ],
   "source": [
    "pbar.close()\n",
    "if 1 == 1:\n",
    "    pbar = tqdm.tqdm(total=(len(beta)*len(alpha)*len(topics_range)))\n",
    "    \n",
    "    for k in topics_range:\n",
    "        for a in alpha:\n",
    "            for b in beta:\n",
    "                cv = train_compute_coherence_save_chart(corpus=corpus, dictionary=dictionary, \n",
    "                                              k=k, a=a, b=b)\n",
    "                model_results['Topics'].append(k)\n",
    "                model_results['Alpha'].append(a)\n",
    "                model_results['Beta'].append(b)\n",
    "                model_results['Coherence'].append(cv)\n",
    "\n",
    "                pbar.update(1)\n",
    "    pd.DataFrame(model_results).to_csv('./results/lda_tuning_results.csv', index=False)\n",
    "    pbar.close()\n"
   ]
  },
  {
   "cell_type": "code",
   "execution_count": 106,
   "id": "1fb56369",
   "metadata": {},
   "outputs": [],
   "source": [
    "df_res = pd.DataFrame(model_results)"
   ]
  },
  {
   "cell_type": "code",
   "execution_count": 33,
   "id": "bcd260c8",
   "metadata": {},
   "outputs": [],
   "source": [
    "df_res.to_csv('lda_tuning_results.csv', index=False)"
   ]
  },
  {
   "cell_type": "code",
   "execution_count": 31,
   "id": "02d41d6a",
   "metadata": {},
   "outputs": [],
   "source": [
    "df_res = pd.read_csv('lda_tuning_results.csv')"
   ]
  },
  {
   "cell_type": "code",
   "execution_count": 34,
   "id": "3e5e4013",
   "metadata": {},
   "outputs": [
    {
     "data": {
      "text/html": [
       "<div>\n",
       "<style scoped>\n",
       "    .dataframe tbody tr th:only-of-type {\n",
       "        vertical-align: middle;\n",
       "    }\n",
       "\n",
       "    .dataframe tbody tr th {\n",
       "        vertical-align: top;\n",
       "    }\n",
       "\n",
       "    .dataframe thead th {\n",
       "        text-align: right;\n",
       "    }\n",
       "</style>\n",
       "<table border=\"1\" class=\"dataframe\">\n",
       "  <thead>\n",
       "    <tr style=\"text-align: right;\">\n",
       "      <th></th>\n",
       "      <th>Topics</th>\n",
       "      <th>Alpha</th>\n",
       "      <th>Beta</th>\n",
       "      <th>Coherence</th>\n",
       "    </tr>\n",
       "  </thead>\n",
       "  <tbody>\n",
       "    <tr>\n",
       "      <th>14</th>\n",
       "      <td>5</td>\n",
       "      <td>0.51</td>\n",
       "      <td>0.01</td>\n",
       "      <td>0.248649</td>\n",
       "    </tr>\n",
       "    <tr>\n",
       "      <th>44</th>\n",
       "      <td>10</td>\n",
       "      <td>0.51</td>\n",
       "      <td>0.01</td>\n",
       "      <td>0.249417</td>\n",
       "    </tr>\n",
       "    <tr>\n",
       "      <th>19</th>\n",
       "      <td>5</td>\n",
       "      <td>0.76</td>\n",
       "      <td>0.01</td>\n",
       "      <td>0.250682</td>\n",
       "    </tr>\n",
       "    <tr>\n",
       "      <th>49</th>\n",
       "      <td>10</td>\n",
       "      <td>0.76</td>\n",
       "      <td>0.01</td>\n",
       "      <td>0.250773</td>\n",
       "    </tr>\n",
       "    <tr>\n",
       "      <th>3</th>\n",
       "      <td>5</td>\n",
       "      <td>0.01</td>\n",
       "      <td>0.01</td>\n",
       "      <td>0.253108</td>\n",
       "    </tr>\n",
       "    <tr>\n",
       "      <th>...</th>\n",
       "      <td>...</td>\n",
       "      <td>...</td>\n",
       "      <td>...</td>\n",
       "      <td>...</td>\n",
       "    </tr>\n",
       "    <tr>\n",
       "      <th>111</th>\n",
       "      <td>20</td>\n",
       "      <td>0.76</td>\n",
       "      <td>0.51</td>\n",
       "      <td>0.398717</td>\n",
       "    </tr>\n",
       "    <tr>\n",
       "      <th>36</th>\n",
       "      <td>10</td>\n",
       "      <td>0.01</td>\n",
       "      <td>0.51</td>\n",
       "      <td>0.408103</td>\n",
       "    </tr>\n",
       "    <tr>\n",
       "      <th>112</th>\n",
       "      <td>20</td>\n",
       "      <td>0.76</td>\n",
       "      <td>0.76</td>\n",
       "      <td>0.413216</td>\n",
       "    </tr>\n",
       "    <tr>\n",
       "      <th>141</th>\n",
       "      <td>25</td>\n",
       "      <td>0.76</td>\n",
       "      <td>0.51</td>\n",
       "      <td>0.424364</td>\n",
       "    </tr>\n",
       "    <tr>\n",
       "      <th>142</th>\n",
       "      <td>25</td>\n",
       "      <td>0.76</td>\n",
       "      <td>0.76</td>\n",
       "      <td>0.435368</td>\n",
       "    </tr>\n",
       "  </tbody>\n",
       "</table>\n",
       "<p>154 rows × 4 columns</p>\n",
       "</div>"
      ],
      "text/plain": [
       "     Topics Alpha  Beta  Coherence\n",
       "14        5  0.51  0.01   0.248649\n",
       "44       10  0.51  0.01   0.249417\n",
       "19        5  0.76  0.01   0.250682\n",
       "49       10  0.76  0.01   0.250773\n",
       "3         5  0.01  0.01   0.253108\n",
       "..      ...   ...   ...        ...\n",
       "111      20  0.76  0.51   0.398717\n",
       "36       10  0.01  0.51   0.408103\n",
       "112      20  0.76  0.76   0.413216\n",
       "141      25  0.76  0.51   0.424364\n",
       "142      25  0.76  0.76   0.435368\n",
       "\n",
       "[154 rows x 4 columns]"
      ]
     },
     "execution_count": 34,
     "metadata": {},
     "output_type": "execute_result"
    }
   ],
   "source": [
    "df_res.sort_values(by='Coherence')"
   ]
  },
  {
   "cell_type": "markdown",
   "id": "bfac051e",
   "metadata": {},
   "source": [
    "Я просмотрел несколько лучших вариантов по параметрам, и чсто визуально мне больше вссего понравился такйо вариант:"
   ]
  },
  {
   "cell_type": "code",
   "execution_count": 59,
   "id": "3644fc02",
   "metadata": {},
   "outputs": [
    {
     "name": "stdout",
     "output_type": "stream",
     "text": [
      "0.3848752897496348\n"
     ]
    }
   ],
   "source": [
    "lda_model, cv = train_compute_coherence_save_chart(name='best_model_vis', corpus=corpus, dictionary=dictionary, \n",
    "                                              k=15, a=0.51, b=0.51)"
   ]
  },
  {
   "cell_type": "code",
   "execution_count": 70,
   "id": "fc66e438",
   "metadata": {},
   "outputs": [],
   "source": [
    "lda_model.save('best_model.model')"
   ]
  },
  {
   "cell_type": "code",
   "execution_count": null,
   "id": "7998412c",
   "metadata": {},
   "outputs": [],
   "source": []
  }
 ],
 "metadata": {
  "kernelspec": {
   "display_name": "Python 3 (ipykernel)",
   "language": "python",
   "name": "python3"
  },
  "language_info": {
   "codemirror_mode": {
    "name": "ipython",
    "version": 3
   },
   "file_extension": ".py",
   "mimetype": "text/x-python",
   "name": "python",
   "nbconvert_exporter": "python",
   "pygments_lexer": "ipython3",
   "version": "3.9.13"
  }
 },
 "nbformat": 4,
 "nbformat_minor": 5
}
